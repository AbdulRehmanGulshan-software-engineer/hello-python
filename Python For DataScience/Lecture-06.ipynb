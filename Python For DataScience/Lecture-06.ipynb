{
 "cells": [
  {
   "cell_type": "markdown",
   "id": "07a5e263-a30d-4600-b526-bbc7062a1f7d",
   "metadata": {},
   "source": [
    "#### Question 01 : Math Competition Problem"
   ]
  },
  {
   "cell_type": "code",
   "execution_count": 3,
   "id": "147261c9-3008-4d42-83de-1419ed6f06e6",
   "metadata": {},
   "outputs": [
    {
     "name": "stdin",
     "output_type": "stream",
     "text": [
      "Enter the expression : 25*3\n"
     ]
    },
    {
     "name": "stdout",
     "output_type": "stream",
     "text": [
      "your mathematical expression ans : 75\n",
      "thanks for participating in maths competition\n"
     ]
    }
   ],
   "source": [
    "# input expression from user\n",
    "expression = input(\"Enter the expression :\")\n",
    "# use eval() function\n",
    "result = eval(expression)\n",
    "# display result\n",
    "print(\"your mathematical expression ans :\",result)\n",
    "print(\"thanks for participating in maths competition\")"
   ]
  },
  {
   "cell_type": "markdown",
   "id": "37252904-5b88-4da5-9012-812af9a80fd1",
   "metadata": {},
   "source": [
    "#### Question 2 : House Problem"
   ]
  },
  {
   "cell_type": "code",
   "execution_count": 6,
   "id": "4a922f37-b13b-4a88-8cbe-ab5bd1d7689e",
   "metadata": {},
   "outputs": [
    {
     "name": "stdout",
     "output_type": "stream",
     "text": [
      "user-1\n"
     ]
    },
    {
     "name": "stdin",
     "output_type": "stream",
     "text": [
      "enter the sizze of the house 2000\n",
      "enter the number of bedrooms 4\n",
      "enter the budget 700000\n"
     ]
    },
    {
     "name": "stdout",
     "output_type": "stream",
     "text": [
      "user-2\n"
     ]
    },
    {
     "name": "stdin",
     "output_type": "stream",
     "text": [
      "enter the size of the house 2500\n",
      "enter the number of bedrooms 5\n",
      "enter the budget 9000000\n"
     ]
    },
    {
     "name": "stdout",
     "output_type": "stream",
     "text": [
      "the price of house for user 1 is 10000000.0\n",
      "the price of house for user 2 is 12500000.0\n",
      "user_1 is above threshold {True}\n",
      "user_2 is above threshold {True}\n"
     ]
    }
   ],
   "source": [
    "# input from user 1\n",
    "print(\"user-1\")\n",
    "house_size_1 = float(input(\"enter the sizze of the house\"))\n",
    "bed_room_1 = int(input(\"enter the number of bedrooms\"))\n",
    "price_1 = float(input(\"enter the budget\"))\n",
    "\n",
    "# input from user 2\n",
    "print(\"user-2\")\n",
    "house_size_2 = float(input(\"enter the size of the house\"))\n",
    "bed_room_2 = int(input(\"enter the number of bedrooms\"))\n",
    "price_2 = float(input(\"enter the budget\"))\n",
    "\n",
    "# check datatype : already checked\n",
    "\n",
    "# calculate price\n",
    "house_price_1 = house_size_1 * 5000\n",
    "print(\"the price of house for user 1 is\",house_price_1)\n",
    "\n",
    "house_price_2 = house_size_2 * 5000\n",
    "print(\"the price of house for user 2 is\",house_price_2)\n",
    "\n",
    "# comparison\n",
    "threshold_price = 7500000\n",
    "user_1_threshold = house_price_1 >= threshold_price\n",
    "user_2_threshold = house_price_2 >= threshold_price\n",
    "\n",
    "print(f\"user_1 is above threshold\",{user_1_threshold})\n",
    "print(f\"user_2 is above threshold\",{user_2_threshold})"
   ]
  },
  {
   "cell_type": "markdown",
   "id": "06d2d4c1-e2bd-488f-9ca1-d769afd86c76",
   "metadata": {},
   "source": [
    "#### Question 03 : Stock Market Data"
   ]
  },
  {
   "cell_type": "code",
   "execution_count": 4,
   "id": "43fdcbff-9ffa-4480-815f-3e4b25372dab",
   "metadata": {},
   "outputs": [
    {
     "name": "stdout",
     "output_type": "stream",
     "text": [
      "the new price of stock is 110.00000000000001\n"
     ]
    },
    {
     "name": "stdin",
     "output_type": "stream",
     "text": [
      "enter your budget 130\n"
     ]
    },
    {
     "name": "stdout",
     "output_type": "stream",
     "text": [
      "user budget is greater than new price True\n"
     ]
    }
   ],
   "source": [
    "# create variables\n",
    "stock_symbol = \"xyz\"\n",
    "current_price = 100\n",
    "percent_change = 10\n",
    "\n",
    "# find new price with 10% increase\n",
    "new_price = current_price*(1+percent_change/100)\n",
    "print(\"the new price of stock is\",new_price)\n",
    "\n",
    "# input budget from user\n",
    "user_budget = float(input(\"enter your budget\"))\n",
    "\n",
    "# compare budget\n",
    "a = user_budget >= new_price\n",
    "print(f\"user budget is greater than new price {a}\")"
   ]
  },
  {
   "cell_type": "markdown",
   "id": "5eed7205-22fd-4055-a365-94014261b0b1",
   "metadata": {},
   "source": [
    "#### Queston 04 : Weather Data"
   ]
  },
  {
   "cell_type": "code",
   "execution_count": 6,
   "id": "8391649f-cd1c-4fff-8032-eff87e4fdcb3",
   "metadata": {},
   "outputs": [
    {
     "name": "stdin",
     "output_type": "stream",
     "text": [
      "enter current temperature 12\n",
      "enter minimum temperature recorded 2\n",
      "enter maximum temperature recorded 20\n"
     ]
    },
    {
     "name": "stdout",
     "output_type": "stream",
     "text": [
      "temperature is within range True\n"
     ]
    }
   ],
   "source": [
    "# variables to store temperatures\n",
    "cur_temp = float(input(\"enter current temperature\"))\n",
    "min_temp = float(input(\"enter minimum temperature recorded\"))\n",
    "max_temp = float(input(\"enter maximum temperature recorded\"))\n",
    "# determine is it in range\n",
    "a = cur_temp > min_temp and cur_temp < max_temp\n",
    "\n",
    "# print the result\n",
    "print(f\"temperature is within range {a}\")"
   ]
  }
 ],
 "metadata": {
  "kernelspec": {
   "display_name": "Python [conda env:base] *",
   "language": "python",
   "name": "conda-base-py"
  },
  "language_info": {
   "codemirror_mode": {
    "name": "ipython",
    "version": 3
   },
   "file_extension": ".py",
   "mimetype": "text/x-python",
   "name": "python",
   "nbconvert_exporter": "python",
   "pygments_lexer": "ipython3",
   "version": "3.12.7"
  }
 },
 "nbformat": 4,
 "nbformat_minor": 5
}
