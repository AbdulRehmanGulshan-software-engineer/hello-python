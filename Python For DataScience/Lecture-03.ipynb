{
 "cells": [
  {
   "cell_type": "markdown",
   "id": "29b4e1a3-313f-409b-8505-a1ec6fc1bddb",
   "metadata": {},
   "source": [
    "### Operators In Python"
   ]
  },
  {
   "cell_type": "markdown",
   "id": "b7df2ce1-8970-4a0c-bf88-d3e215828044",
   "metadata": {},
   "source": [
    "#### Arithmetic Operators"
   ]
  },
  {
   "cell_type": "markdown",
   "id": "99d704c0-719d-4c31-a7f8-a24839aacd8f",
   "metadata": {},
   "source": [
    "##### Addition"
   ]
  },
  {
   "cell_type": "code",
   "execution_count": 1,
   "id": "e92d0a5b-6653-4170-9ac4-6a4e6c9c04f8",
   "metadata": {},
   "outputs": [
    {
     "name": "stdout",
     "output_type": "stream",
     "text": [
      "3\n"
     ]
    }
   ],
   "source": [
    "a = 1\n",
    "b = 2\n",
    "print(a+b)"
   ]
  },
  {
   "cell_type": "code",
   "execution_count": 2,
   "id": "eeab884d-c343-4738-8d56-af48e205b0e3",
   "metadata": {},
   "outputs": [
    {
     "name": "stdout",
     "output_type": "stream",
     "text": [
      "3.8\n"
     ]
    }
   ],
   "source": [
    "x = 1.5\n",
    "y = 2.3\n",
    "print(x+y)"
   ]
  },
  {
   "cell_type": "markdown",
   "id": "ebc2ddb0-cc14-4fd3-b813-13fd442fe1d5",
   "metadata": {},
   "source": [
    "###### strings concatination"
   ]
  },
  {
   "cell_type": "code",
   "execution_count": 3,
   "id": "c7e8da34-4581-43a1-9cd1-cdacf7a2dc00",
   "metadata": {},
   "outputs": [
    {
     "name": "stdout",
     "output_type": "stream",
     "text": [
      "hellogulshan\n"
     ]
    }
   ],
   "source": [
    "a = \"hello\"\n",
    "b = \"gulshan\"\n",
    "print(a+b)"
   ]
  },
  {
   "cell_type": "code",
   "execution_count": 4,
   "id": "3e54ee73-4b45-45a0-8832-b861d6ffe903",
   "metadata": {},
   "outputs": [
    {
     "name": "stdout",
     "output_type": "stream",
     "text": [
      "hello rafay\n"
     ]
    }
   ],
   "source": [
    "a = \"hello\"\n",
    "b = \"rafay\"\n",
    "print(a+\" \"+b)"
   ]
  },
  {
   "cell_type": "markdown",
   "id": "d5ba05e5-6730-4fa2-9c73-0e421ace6c42",
   "metadata": {},
   "source": [
    "###### Adding Complex Numbers"
   ]
  },
  {
   "cell_type": "code",
   "execution_count": 5,
   "id": "014344de-1c2a-4903-adee-dc7114307aae",
   "metadata": {},
   "outputs": [
    {
     "name": "stdout",
     "output_type": "stream",
     "text": [
      "(3+8j)\n"
     ]
    }
   ],
   "source": [
    "x1 = 2+3j\n",
    "y1 = 1+5j\n",
    "print(x1+y1)"
   ]
  },
  {
   "cell_type": "code",
   "execution_count": 6,
   "id": "7fc5f621-b3ac-4a12-b3a0-bad2582e5214",
   "metadata": {},
   "outputs": [
    {
     "name": "stdout",
     "output_type": "stream",
     "text": [
      "-1\n"
     ]
    }
   ],
   "source": [
    "w1 = -4\n",
    "w2 = 3\n",
    "print(w1+w2)"
   ]
  },
  {
   "cell_type": "markdown",
   "id": "8fec7e88-a1bd-4f68-a3b0-8d24d7f25d3d",
   "metadata": {},
   "source": [
    "##### Subtraction"
   ]
  },
  {
   "cell_type": "code",
   "execution_count": 7,
   "id": "c62e63c4-165a-455f-96db-860c64c1eaed",
   "metadata": {},
   "outputs": [
    {
     "name": "stdout",
     "output_type": "stream",
     "text": [
      "4\n"
     ]
    }
   ],
   "source": [
    "num1 = 8\n",
    "num2 = 4\n",
    "print(num1 - num2)"
   ]
  },
  {
   "cell_type": "code",
   "execution_count": 8,
   "id": "f6adee0e-a5c9-41bf-becb-8d4a060a4956",
   "metadata": {},
   "outputs": [
    {
     "name": "stdout",
     "output_type": "stream",
     "text": [
      "2.16\n"
     ]
    }
   ],
   "source": [
    "a4 = 4.5\n",
    "b4 = 2.34\n",
    "print(a4 - b4)"
   ]
  },
  {
   "cell_type": "code",
   "execution_count": 10,
   "id": "b6373e3e-7811-429b-9a27-de1712d933e6",
   "metadata": {},
   "outputs": [
    {
     "ename": "TypeError",
     "evalue": "unsupported operand type(s) for -: 'str' and 'str'",
     "output_type": "error",
     "traceback": [
      "\u001b[1;31m---------------------------------------------------------------------------\u001b[0m",
      "\u001b[1;31mTypeError\u001b[0m                                 Traceback (most recent call last)",
      "Cell \u001b[1;32mIn[10], line 3\u001b[0m\n\u001b[0;32m      1\u001b[0m a5 \u001b[38;5;241m=\u001b[39m \u001b[38;5;124m\"\u001b[39m\u001b[38;5;124mhello\u001b[39m\u001b[38;5;124m\"\u001b[39m\n\u001b[0;32m      2\u001b[0m b5 \u001b[38;5;241m=\u001b[39m \u001b[38;5;124m\"\u001b[39m\u001b[38;5;124mstudents\u001b[39m\u001b[38;5;124m\"\u001b[39m\n\u001b[1;32m----> 3\u001b[0m \u001b[38;5;28mprint\u001b[39m(a5 \u001b[38;5;241m-\u001b[39m b5)\n",
      "\u001b[1;31mTypeError\u001b[0m: unsupported operand type(s) for -: 'str' and 'str'"
     ]
    }
   ],
   "source": [
    "a5 = \"hello\"\n",
    "b5 = \"students\"\n",
    "print(a5 - b5)"
   ]
  },
  {
   "cell_type": "code",
   "execution_count": 11,
   "id": "b41a5a00-803d-46e7-962e-ad5d579e3ac9",
   "metadata": {},
   "outputs": [
    {
     "name": "stdout",
     "output_type": "stream",
     "text": [
      "(2+4j)\n"
     ]
    }
   ],
   "source": [
    "a6 = 5 + 9j\n",
    "b6  = 3 + 5j\n",
    "print(a6 - b6)"
   ]
  },
  {
   "cell_type": "markdown",
   "id": "e6762e84-fa81-4b8d-9b95-7061112035c5",
   "metadata": {},
   "source": [
    "#### Multiplication"
   ]
  },
  {
   "cell_type": "code",
   "execution_count": 12,
   "id": "7ad37574-c85a-42a1-bff6-0b33ad81383f",
   "metadata": {},
   "outputs": [
    {
     "name": "stdout",
     "output_type": "stream",
     "text": [
      "15\n"
     ]
    }
   ],
   "source": [
    "n = 3\n",
    "m = 5\n",
    "print(n * m)"
   ]
  },
  {
   "cell_type": "code",
   "execution_count": 14,
   "id": "c495d949-5667-4cf2-948a-fbc7374f435b",
   "metadata": {},
   "outputs": [
    {
     "name": "stdout",
     "output_type": "stream",
     "text": [
      "27.95499378739863\n"
     ]
    }
   ],
   "source": [
    "n1 = 4.546462846\n",
    "m1 = 6.14873468327\n",
    "print(n1 * m1)"
   ]
  },
  {
   "cell_type": "code",
   "execution_count": 16,
   "id": "2498d02d-15e2-4639-be1f-57916e09bfcd",
   "metadata": {},
   "outputs": [
    {
     "name": "stdout",
     "output_type": "stream",
     "text": [
      "hellohellohellohellohello\n"
     ]
    }
   ],
   "source": [
    "str = \"hello\"\n",
    "print(str * 5)"
   ]
  },
  {
   "cell_type": "code",
   "execution_count": 17,
   "id": "5cebea4b-f76d-4421-9289-51c06eee88b3",
   "metadata": {},
   "outputs": [
    {
     "ename": "TypeError",
     "evalue": "can't multiply sequence by non-int of type 'str'",
     "output_type": "error",
     "traceback": [
      "\u001b[1;31m---------------------------------------------------------------------------\u001b[0m",
      "\u001b[1;31mTypeError\u001b[0m                                 Traceback (most recent call last)",
      "Cell \u001b[1;32mIn[17], line 3\u001b[0m\n\u001b[0;32m      1\u001b[0m str1 \u001b[38;5;241m=\u001b[39m \u001b[38;5;124m\"\u001b[39m\u001b[38;5;124mhello\u001b[39m\u001b[38;5;124m\"\u001b[39m\n\u001b[0;32m      2\u001b[0m str2 \u001b[38;5;241m=\u001b[39m \u001b[38;5;124m\"\u001b[39m\u001b[38;5;124mgulshan\u001b[39m\u001b[38;5;124m\"\u001b[39m\n\u001b[1;32m----> 3\u001b[0m \u001b[38;5;28mprint\u001b[39m(str1 \u001b[38;5;241m*\u001b[39m str2)\n",
      "\u001b[1;31mTypeError\u001b[0m: can't multiply sequence by non-int of type 'str'"
     ]
    }
   ],
   "source": [
    "str1 = \"hello\"\n",
    "str2 = \"gulshan\"\n",
    "print(str1 * str2)"
   ]
  },
  {
   "cell_type": "code",
   "execution_count": 18,
   "id": "4568ef05-cf1f-4425-a130-19d65c0ba3b0",
   "metadata": {},
   "outputs": [
    {
     "name": "stdout",
     "output_type": "stream",
     "text": [
      "(-18+24j)\n"
     ]
    }
   ],
   "source": [
    "a1 = 2 + 4j\n",
    "b1 = 3 + 6j\n",
    "print(a1*b1)"
   ]
  },
  {
   "cell_type": "markdown",
   "id": "60a2515d-e0e3-4303-af04-3b282a38e544",
   "metadata": {},
   "source": [
    "#### Division"
   ]
  },
  {
   "cell_type": "code",
   "execution_count": 19,
   "id": "3cf2b82a-04b1-4fb5-aa6c-7a1929614383",
   "metadata": {},
   "outputs": [
    {
     "name": "stdout",
     "output_type": "stream",
     "text": [
      "5.0\n"
     ]
    }
   ],
   "source": [
    "a = 15\n",
    "b = 3\n",
    "print(a/b)"
   ]
  },
  {
   "cell_type": "code",
   "execution_count": 21,
   "id": "f705b198-989e-41ab-9c3a-dea086c24243",
   "metadata": {},
   "outputs": [
    {
     "name": "stdout",
     "output_type": "stream",
     "text": [
      "1317626.1291899513\n"
     ]
    }
   ],
   "source": [
    "a1 = 34724372473\n",
    "b1 = 26353.737\n",
    "print(a1/b1)"
   ]
  },
  {
   "cell_type": "code",
   "execution_count": 22,
   "id": "abe2aec2-f8f6-41f5-8997-c448d041b54c",
   "metadata": {},
   "outputs": [
    {
     "name": "stdout",
     "output_type": "stream",
     "text": [
      "(1.2413793103448276-0.10344827586206891j)\n"
     ]
    }
   ],
   "source": [
    "com1 = 3 + 6j\n",
    "com2 = 2 + 5j\n",
    "print(com1/com2)"
   ]
  },
  {
   "cell_type": "code",
   "execution_count": 25,
   "id": "ca7735ee-21ce-43ea-ae4d-9cf775a08f75",
   "metadata": {},
   "outputs": [
    {
     "ename": "TypeError",
     "evalue": "unsupported operand type(s) for /: 'str' and 'str'",
     "output_type": "error",
     "traceback": [
      "\u001b[1;31m---------------------------------------------------------------------------\u001b[0m",
      "\u001b[1;31mTypeError\u001b[0m                                 Traceback (most recent call last)",
      "Cell \u001b[1;32mIn[25], line 3\u001b[0m\n\u001b[0;32m      1\u001b[0m str1 \u001b[38;5;241m=\u001b[39m \u001b[38;5;124m\"\u001b[39m\u001b[38;5;124mhello\u001b[39m\u001b[38;5;124m\"\u001b[39m\n\u001b[0;32m      2\u001b[0m str2 \u001b[38;5;241m=\u001b[39m \u001b[38;5;124m\"\u001b[39m\u001b[38;5;124mgulshan\u001b[39m\u001b[38;5;124m\"\u001b[39m\n\u001b[1;32m----> 3\u001b[0m \u001b[38;5;28mprint\u001b[39m(str1\u001b[38;5;241m/\u001b[39mstr2)\n",
      "\u001b[1;31mTypeError\u001b[0m: unsupported operand type(s) for /: 'str' and 'str'"
     ]
    }
   ],
   "source": [
    "str1 = \"hello\"\n",
    "str2 = \"gulshan\"\n",
    "print(str1/str2)"
   ]
  },
  {
   "cell_type": "markdown",
   "id": "d8ffa986-ad6e-47ae-b19c-7fb36d663e4b",
   "metadata": {},
   "source": [
    "#### Modulus"
   ]
  },
  {
   "cell_type": "markdown",
   "id": "e10042d5-be89-49b9-8b41-2f04f9b1abcb",
   "metadata": {},
   "source": [
    "###### Modulus gives us remainder"
   ]
  },
  {
   "cell_type": "code",
   "execution_count": 27,
   "id": "f5ac2a70-3369-4165-a464-dd72fafa8913",
   "metadata": {},
   "outputs": [
    {
     "name": "stdout",
     "output_type": "stream",
     "text": [
      "1\n"
     ]
    }
   ],
   "source": [
    "a = 13\n",
    "b = 4\n",
    "print(a%b)"
   ]
  },
  {
   "cell_type": "code",
   "execution_count": 29,
   "id": "52ab3ee8-a96f-4d14-9c65-da89b0998c54",
   "metadata": {},
   "outputs": [
    {
     "name": "stdout",
     "output_type": "stream",
     "text": [
      "0.6343897900001307\n"
     ]
    }
   ],
   "source": [
    "a1 = 4567.43438979\n",
    "b1 = 2.8\n",
    "print(a1%b1)"
   ]
  },
  {
   "cell_type": "code",
   "execution_count": 30,
   "id": "3d236e74-9949-46bb-893f-406852a73d72",
   "metadata": {},
   "outputs": [
    {
     "ename": "TypeError",
     "evalue": "unsupported operand type(s) for %: 'complex' and 'complex'",
     "output_type": "error",
     "traceback": [
      "\u001b[1;31m---------------------------------------------------------------------------\u001b[0m",
      "\u001b[1;31mTypeError\u001b[0m                                 Traceback (most recent call last)",
      "Cell \u001b[1;32mIn[30], line 3\u001b[0m\n\u001b[0;32m      1\u001b[0m num1 \u001b[38;5;241m=\u001b[39m \u001b[38;5;241m4\u001b[39m \u001b[38;5;241m+\u001b[39m \u001b[38;5;241m7\u001b[39mj\n\u001b[0;32m      2\u001b[0m num2 \u001b[38;5;241m=\u001b[39m \u001b[38;5;241m3\u001b[39m \u001b[38;5;241m+\u001b[39m \u001b[38;5;241m9\u001b[39mj\n\u001b[1;32m----> 3\u001b[0m \u001b[38;5;28mprint\u001b[39m(num1\u001b[38;5;241m%\u001b[39mnum2)\n",
      "\u001b[1;31mTypeError\u001b[0m: unsupported operand type(s) for %: 'complex' and 'complex'"
     ]
    }
   ],
   "source": [
    "num1 = 4 + 7j\n",
    "num2 = 3 + 9j\n",
    "print(num1%num2)"
   ]
  },
  {
   "cell_type": "markdown",
   "id": "51306d0f-cc3d-435a-9b33-c20668690d0a",
   "metadata": {},
   "source": [
    "#### Floor Division"
   ]
  },
  {
   "cell_type": "markdown",
   "id": "ad7d6231-f536-4a87-ac3a-d2455d542690",
   "metadata": {},
   "source": [
    "###### floor division returns quotient"
   ]
  },
  {
   "cell_type": "code",
   "execution_count": 28,
   "id": "2c5746f1-f8ab-4ecb-b7e2-de1c12529e83",
   "metadata": {},
   "outputs": [
    {
     "name": "stdout",
     "output_type": "stream",
     "text": [
      "3\n"
     ]
    }
   ],
   "source": [
    "a = 13\n",
    "b = 4\n",
    "print(a//b)"
   ]
  },
  {
   "cell_type": "markdown",
   "id": "ca4ef363-4744-4561-b64c-bf638ad2d663",
   "metadata": {},
   "source": [
    "#### Exponent"
   ]
  },
  {
   "cell_type": "markdown",
   "id": "e7bd8ddb-6636-42bc-be16-6f74f89183e6",
   "metadata": {},
   "source": [
    "###### power operator"
   ]
  },
  {
   "cell_type": "code",
   "execution_count": 33,
   "id": "9b6b5a55-7b22-44a5-a58a-2776e6ae3d9b",
   "metadata": {},
   "outputs": [
    {
     "name": "stdout",
     "output_type": "stream",
     "text": [
      "36\n"
     ]
    }
   ],
   "source": [
    "print(6**2) #print square of 6"
   ]
  },
  {
   "cell_type": "markdown",
   "id": "84b9b4ae-b430-4d38-bbb5-152b7173c5c7",
   "metadata": {},
   "source": [
    "### Problem"
   ]
  },
  {
   "cell_type": "markdown",
   "id": "d0f04739-44a4-413b-849c-65701a1cca86",
   "metadata": {},
   "source": [
    "###### calculate BMI"
   ]
  },
  {
   "cell_type": "code",
   "execution_count": 35,
   "id": "9a96660a-1990-47a9-ab3e-4b826d21fc37",
   "metadata": {},
   "outputs": [
    {
     "name": "stdout",
     "output_type": "stream",
     "text": [
      "2.4\n"
     ]
    }
   ],
   "source": [
    "height = 5\n",
    "weight = 60\n",
    "bmi = weight/height**2\n",
    "print(bmi)"
   ]
  },
  {
   "cell_type": "markdown",
   "id": "dd30ddd4-3f31-485f-8dde-96f1d0983d9e",
   "metadata": {},
   "source": [
    "### Boolean Operator"
   ]
  },
  {
   "cell_type": "code",
   "execution_count": 37,
   "id": "c84ab202-e03a-408a-a44f-930fafc1e1d7",
   "metadata": {},
   "outputs": [
    {
     "name": "stdout",
     "output_type": "stream",
     "text": [
      "<class 'bool'>\n"
     ]
    }
   ],
   "source": [
    "a = True\n",
    "print(type(a))"
   ]
  },
  {
   "cell_type": "code",
   "execution_count": 38,
   "id": "128c0b55-743f-4d48-8056-2bdd9c9c670e",
   "metadata": {},
   "outputs": [
    {
     "name": "stdout",
     "output_type": "stream",
     "text": [
      "<class 'bool'>\n"
     ]
    }
   ],
   "source": [
    "b = False\n",
    "print(type(b))"
   ]
  },
  {
   "cell_type": "markdown",
   "id": "40ef0e4b-95fa-411a-8732-619c4a196482",
   "metadata": {},
   "source": [
    "### Comparison Operator"
   ]
  },
  {
   "cell_type": "markdown",
   "id": "e0cc6a36-21bb-4bfa-9dba-56acbacde69c",
   "metadata": {},
   "source": [
    "###### In Python comparison operators are used to compare values. These operators return True or False on whether the comparison is true or false"
   ]
  },
  {
   "cell_type": "code",
   "execution_count": 42,
   "id": "7f0b9efb-4d3f-44e7-86d3-50a110931fda",
   "metadata": {},
   "outputs": [
    {
     "name": "stdout",
     "output_type": "stream",
     "text": [
      "True\n"
     ]
    }
   ],
   "source": [
    "# equal to operator\n",
    "x = 5\n",
    "y = 5\n",
    "print(x==y)"
   ]
  },
  {
   "cell_type": "code",
   "execution_count": 43,
   "id": "37e77729-2db6-4ce1-a698-24a7ada772b4",
   "metadata": {},
   "outputs": [
    {
     "name": "stdout",
     "output_type": "stream",
     "text": [
      "False\n"
     ]
    }
   ],
   "source": [
    "# equal to operator\n",
    "x = 5\n",
    "y = 6\n",
    "print(x==y)"
   ]
  },
  {
   "cell_type": "markdown",
   "id": "b20a91f1-e39d-4d23-94c4-276e04d9d5c3",
   "metadata": {},
   "source": [
    "#### not equal !="
   ]
  },
  {
   "cell_type": "code",
   "execution_count": 44,
   "id": "27e80aba-cd95-4f9d-9171-59c6d752178c",
   "metadata": {},
   "outputs": [
    {
     "name": "stdout",
     "output_type": "stream",
     "text": [
      "True\n"
     ]
    }
   ],
   "source": [
    "x = 5\n",
    "y = 3\n",
    "print(x!=y)"
   ]
  },
  {
   "cell_type": "code",
   "execution_count": 45,
   "id": "67b4d73e-d64a-4d1a-b2df-75c2ca837704",
   "metadata": {},
   "outputs": [
    {
     "name": "stdout",
     "output_type": "stream",
     "text": [
      "False\n"
     ]
    }
   ],
   "source": [
    "x = 5\n",
    "y = 5\n",
    "print(x!=y)"
   ]
  },
  {
   "cell_type": "markdown",
   "id": "5ebf5da4-a994-4f29-8825-70d494891b16",
   "metadata": {},
   "source": [
    "greater than >"
   ]
  },
  {
   "cell_type": "code",
   "execution_count": 46,
   "id": "9111ca5d-93dd-40b3-b468-b01bf4ed420a",
   "metadata": {},
   "outputs": [
    {
     "name": "stdout",
     "output_type": "stream",
     "text": [
      "True\n"
     ]
    }
   ],
   "source": [
    "x = 5\n",
    "y = 3\n",
    "print(x>y)"
   ]
  },
  {
   "cell_type": "markdown",
   "id": "e83368ec-c540-4f41-9d26-d0693f60be6c",
   "metadata": {},
   "source": [
    "Smaller Than <"
   ]
  },
  {
   "cell_type": "code",
   "execution_count": 47,
   "id": "167bf4ba-d01c-40b3-8ec8-4582875686e4",
   "metadata": {},
   "outputs": [
    {
     "name": "stdout",
     "output_type": "stream",
     "text": [
      "True\n"
     ]
    }
   ],
   "source": [
    "x = 45\n",
    "y = 23\n",
    "print(y < x)"
   ]
  },
  {
   "cell_type": "markdown",
   "id": "c19d2567-daf0-437f-8b52-6dc532ae7fd2",
   "metadata": {},
   "source": [
    "greater than equal to"
   ]
  },
  {
   "cell_type": "code",
   "execution_count": 51,
   "id": "87ceeab9-1ed1-4011-b72a-6259e9925cbe",
   "metadata": {},
   "outputs": [
    {
     "name": "stdout",
     "output_type": "stream",
     "text": [
      "True\n"
     ]
    }
   ],
   "source": [
    "x = 5\n",
    "y = 5\n",
    "print(x>=y)"
   ]
  },
  {
   "cell_type": "markdown",
   "id": "71f24d89-6055-4c63-84f7-594145356a73",
   "metadata": {},
   "source": [
    "less than equal to"
   ]
  },
  {
   "cell_type": "code",
   "execution_count": 53,
   "id": "c9cf8138-c54a-413d-a471-ccbfeb013c83",
   "metadata": {},
   "outputs": [
    {
     "name": "stdout",
     "output_type": "stream",
     "text": [
      "True\n"
     ]
    }
   ],
   "source": [
    "x = 5\n",
    "y = 5\n",
    "print(x<=y)"
   ]
  },
  {
   "cell_type": "markdown",
   "id": "3ea76173-f2d9-45c8-92cd-8e2b40b86e96",
   "metadata": {},
   "source": [
    "### Logical Operators"
   ]
  },
  {
   "cell_type": "code",
   "execution_count": 58,
   "id": "9fb093d9-0f8a-4f86-98e3-cd4c654ce972",
   "metadata": {},
   "outputs": [
    {
     "name": "stdout",
     "output_type": "stream",
     "text": [
      "False\n"
     ]
    }
   ],
   "source": [
    "# AND Operator\n",
    "x = True\n",
    "y = False\n",
    "print(x&y) # can also use print(x and y) "
   ]
  },
  {
   "cell_type": "code",
   "execution_count": 59,
   "id": "2d00f36e-6caa-4ad2-8765-87d46d2bc9a3",
   "metadata": {},
   "outputs": [
    {
     "name": "stdout",
     "output_type": "stream",
     "text": [
      "True\n"
     ]
    }
   ],
   "source": [
    "# OR Operator\n",
    "x = True\n",
    "y = False\n",
    "print(x|y) # can also use print(x or y)"
   ]
  },
  {
   "cell_type": "code",
   "execution_count": 61,
   "id": "ae1a0066-11df-412a-af02-7e0110706997",
   "metadata": {},
   "outputs": [
    {
     "name": "stdout",
     "output_type": "stream",
     "text": [
      "False\n"
     ]
    }
   ],
   "source": [
    "# NOT Operator\n",
    "x = True\n",
    "print(not x)"
   ]
  },
  {
   "cell_type": "code",
   "execution_count": 62,
   "id": "3917bcc3-7432-4983-a743-9eecd8ce1460",
   "metadata": {},
   "outputs": [
    {
     "name": "stdout",
     "output_type": "stream",
     "text": [
      "True\n"
     ]
    }
   ],
   "source": [
    "x = False\n",
    "print(not x)"
   ]
  },
  {
   "cell_type": "markdown",
   "id": "62ca07ff-4d02-448e-bdf1-e7e9280a0499",
   "metadata": {},
   "source": [
    "#### Practice Questions"
   ]
  },
  {
   "cell_type": "markdown",
   "id": "e18e096a-c022-4799-9586-ec64e0c3e409",
   "metadata": {},
   "source": [
    "##### Question 01"
   ]
  },
  {
   "cell_type": "code",
   "execution_count": 3,
   "id": "15127b38-11aa-485e-a069-3b99a985898c",
   "metadata": {},
   "outputs": [
    {
     "name": "stdout",
     "output_type": "stream",
     "text": [
      "The pricw of product 1 = 1250\n",
      "The pricw of product 2 = 16400\n",
      "The pricw of product 3 = 9316\n",
      "Total to pay :  26966\n"
     ]
    }
   ],
   "source": [
    "product_1 = 5*250\n",
    "product_2 = 25*656\n",
    "product_3 = 34*274\n",
    "print(\"The pricw of product 1 =\",product_1)\n",
    "print(\"The pricw of product 2 =\",product_2)\n",
    "print(\"The pricw of product 3 =\",product_3)\n",
    "print(\"Total to pay : \",product_1+product_2+product_3)"
   ]
  },
  {
   "cell_type": "markdown",
   "id": "b77846f7-a159-4d3e-8f32-71b857693a7f",
   "metadata": {},
   "source": [
    "##### Question 02 : SIMPLE INTEREST"
   ]
  },
  {
   "cell_type": "code",
   "execution_count": 8,
   "id": "3e212129-e706-4f23-885b-c215e63178f1",
   "metadata": {},
   "outputs": [
    {
     "name": "stdout",
     "output_type": "stream",
     "text": [
      "the simple interest =  360000.0\n",
      "True\n",
      "the value is greater than 120000\n"
     ]
    }
   ],
   "source": [
    "# calculate simple interest\n",
    "principle_amount = 1500000\n",
    "time_period = 3\n",
    "interest_rate = 8\n",
    "simple_interest = principle_amount*time_period*interest_rate/100\n",
    "print(\"the simple interest = \",simple_interest)\n",
    "# compare\n",
    "threshold = 120000\n",
    "comp = simple_interest > threshold\n",
    "print(comp)\n",
    "print(\"the value is greater than 120000\")"
   ]
  },
  {
   "cell_type": "markdown",
   "id": "9328d9de-58a9-4736-9031-0f579c4bcd42",
   "metadata": {},
   "source": [
    "##### Question 03 : calculate circle area"
   ]
  },
  {
   "cell_type": "code",
   "execution_count": 11,
   "id": "27f0ad22-8723-4457-87d9-5a5a79bfdb30",
   "metadata": {},
   "outputs": [
    {
     "name": "stdout",
     "output_type": "stream",
     "text": [
      "452.3893421169302\n"
     ]
    }
   ],
   "source": [
    "import math\n",
    "radius = 12\n",
    "area = math.pi * radius**2\n",
    "print(area)"
   ]
  }
 ],
 "metadata": {
  "kernelspec": {
   "display_name": "Python [conda env:base] *",
   "language": "python",
   "name": "conda-base-py"
  },
  "language_info": {
   "codemirror_mode": {
    "name": "ipython",
    "version": 3
   },
   "file_extension": ".py",
   "mimetype": "text/x-python",
   "name": "python",
   "nbconvert_exporter": "python",
   "pygments_lexer": "ipython3",
   "version": "3.12.7"
  }
 },
 "nbformat": 4,
 "nbformat_minor": 5
}
