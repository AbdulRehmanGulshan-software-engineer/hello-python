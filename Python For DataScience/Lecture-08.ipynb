{
 "cells": [
  {
   "cell_type": "markdown",
   "id": "ac9fc03f-72aa-4efc-b011-5300adc2d1db",
   "metadata": {},
   "source": [
    "## Lecture 08"
   ]
  },
  {
   "cell_type": "markdown",
   "id": "de88adb4-3f9e-4ab9-9a8d-b7a5fa5857e6",
   "metadata": {},
   "source": [
    "### Loops In Python"
   ]
  },
  {
   "cell_type": "markdown",
   "id": "1c459030-18c6-402b-a9a6-b836e7a4eb51",
   "metadata": {},
   "source": [
    "#### 1: While Loop"
   ]
  },
  {
   "cell_type": "markdown",
   "id": "1e221832-0948-4885-87e7-25eee9b6681d",
   "metadata": {},
   "source": [
    "##### Problem : print 1 to 10"
   ]
  },
  {
   "cell_type": "code",
   "execution_count": 3,
   "id": "482468de-2ffb-4dcf-a9c9-c5e1eaeb2efd",
   "metadata": {},
   "outputs": [
    {
     "name": "stdout",
     "output_type": "stream",
     "text": [
      "1\n",
      "2\n",
      "3\n",
      "4\n",
      "5\n"
     ]
    }
   ],
   "source": [
    "count = 1\n",
    "while count<=5:\n",
    "    print(count)\n",
    "    count = count +1"
   ]
  },
  {
   "cell_type": "markdown",
   "id": "192aeb19-2c21-47a2-aed6-7fa88e6e993a",
   "metadata": {},
   "source": [
    "##### write a python program to print all the even numbers between 1 to 15"
   ]
  },
  {
   "cell_type": "code",
   "execution_count": 4,
   "id": "d484b2c0-a81f-413b-b1d3-52f2320c135c",
   "metadata": {},
   "outputs": [
    {
     "name": "stdout",
     "output_type": "stream",
     "text": [
      "2\n",
      "4\n",
      "6\n",
      "8\n",
      "10\n",
      "12\n",
      "14\n"
     ]
    }
   ],
   "source": [
    "count = 1\n",
    "while count<=15:\n",
    "    if count%2 == 0:\n",
    "        print(count)\n",
    "    count = count + 1"
   ]
  },
  {
   "cell_type": "markdown",
   "id": "f3fa4c4b-b9bb-4583-9f5e-9bd0c587b13a",
   "metadata": {},
   "source": [
    "##### Problem : Email Check using while loop and if else"
   ]
  },
  {
   "cell_type": "code",
   "execution_count": 7,
   "id": "07987dd5-9c8e-4e71-bc5c-5331822fa0cd",
   "metadata": {},
   "outputs": [
    {
     "name": "stdin",
     "output_type": "stream",
     "text": [
      "enter you email gulshan.pucit@gmail.co\n"
     ]
    },
    {
     "name": "stdout",
     "output_type": "stream",
     "text": [
      "your email is not valid.try again\n"
     ]
    },
    {
     "name": "stdin",
     "output_type": "stream",
     "text": [
      "please enter your email id gulshan.pucit@gmail.com\n"
     ]
    },
    {
     "name": "stdout",
     "output_type": "stream",
     "text": [
      "your email id is valid\n"
     ]
    }
   ],
   "source": [
    "# input email id from user\n",
    "email = input(\"enter you email\")\n",
    "# initialize a flag to track validation status\n",
    "valid_email = False # consider it false for first\n",
    "\n",
    "# start the loop\n",
    "while not valid_email:\n",
    "    # check if email contains @ and .com\n",
    "    if \"@\" in email and \".com\" in email:\n",
    "        print(\"your email id is valid\")\n",
    "        valid_email = True\n",
    "    else:\n",
    "        print(\"your email is not valid.try again\")\n",
    "        email = input(\"please enter your email id\")"
   ]
  }
 ],
 "metadata": {
  "kernelspec": {
   "display_name": "Python [conda env:base] *",
   "language": "python",
   "name": "conda-base-py"
  },
  "language_info": {
   "codemirror_mode": {
    "name": "ipython",
    "version": 3
   },
   "file_extension": ".py",
   "mimetype": "text/x-python",
   "name": "python",
   "nbconvert_exporter": "python",
   "pygments_lexer": "ipython3",
   "version": "3.12.7"
  }
 },
 "nbformat": 4,
 "nbformat_minor": 5
}
