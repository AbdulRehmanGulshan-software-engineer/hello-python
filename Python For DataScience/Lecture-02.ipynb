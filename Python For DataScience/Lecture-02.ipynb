{
 "cells": [
  {
   "cell_type": "markdown",
   "id": "496ff856-37a5-4916-9d8d-802eb4fb52a1",
   "metadata": {},
   "source": [
    "# Fundamentals Of Python "
   ]
  },
  {
   "cell_type": "markdown",
   "id": "4eb6e284-ce7f-421e-96f1-00bb2700b342",
   "metadata": {},
   "source": [
    "### First Program"
   ]
  },
  {
   "cell_type": "code",
   "execution_count": 3,
   "id": "29c23f1f-9c14-40ea-b5c5-966136b35aa8",
   "metadata": {},
   "outputs": [
    {
     "name": "stdout",
     "output_type": "stream",
     "text": [
      "hello world!\n"
     ]
    }
   ],
   "source": [
    "print(\"hello world!\")"
   ]
  },
  {
   "cell_type": "markdown",
   "id": "15f7fbed-452b-41de-a08a-41a25eca4e52",
   "metadata": {},
   "source": [
    "### Comments \"#\""
   ]
  },
  {
   "cell_type": "markdown",
   "id": "e32c3ec4-fc8d-4e24-8c8a-1971199362eb",
   "metadata": {},
   "source": [
    "##### These are used to tell what our code is about"
   ]
  },
  {
   "cell_type": "code",
   "execution_count": 7,
   "id": "fc1215a5-282f-4000-b043-ebbbf077db71",
   "metadata": {},
   "outputs": [
    {
     "name": "stdout",
     "output_type": "stream",
     "text": [
      "hello i am abdul rehman gulshan\n",
      "23\n",
      "5\n",
      "32\n"
     ]
    }
   ],
   "source": [
    "# this line of code is about introduction\n",
    "print(\"hello i am abdul rehman gulshan\")\n",
    "# this is the number\n",
    "print(23)\n",
    "print(3 + 2)\n",
    "print(\"3\" + \"2\")"
   ]
  },
  {
   "cell_type": "markdown",
   "id": "2b1f5fde-221f-4ec3-bfe9-d6b809ab9679",
   "metadata": {},
   "source": [
    "## Creating A Variable"
   ]
  },
  {
   "cell_type": "code",
   "execution_count": 8,
   "id": "779f8dd8-33f8-482a-843a-c2d3b9b4bc8b",
   "metadata": {},
   "outputs": [
    {
     "name": "stdout",
     "output_type": "stream",
     "text": [
      "5\n"
     ]
    }
   ],
   "source": [
    "x = 5;\n",
    "print(x)"
   ]
  },
  {
   "cell_type": "code",
   "execution_count": 9,
   "id": "ebe93906-d6bc-4c7a-95a2-2db1520f4fce",
   "metadata": {},
   "outputs": [
    {
     "name": "stdout",
     "output_type": "stream",
     "text": [
      "10 2.2 gulshan\n"
     ]
    }
   ],
   "source": [
    "a = 10 # integer type data\n",
    "b = 2.2 # float type data\n",
    "c = \"gulshan\" # string type data\n",
    "print(a, b, c)\n",
    "\n"
   ]
  },
  {
   "cell_type": "code",
   "execution_count": 10,
   "id": "f960a810-1a99-4a41-8641-6598bb1d59e4",
   "metadata": {},
   "outputs": [
    {
     "name": "stdout",
     "output_type": "stream",
     "text": [
      "we are learning python\n"
     ]
    }
   ],
   "source": [
    "y = \"we are learning python\"\n",
    "print(y)"
   ]
  },
  {
   "cell_type": "markdown",
   "id": "103c2186-ee4e-4262-b5ae-2205a6046063",
   "metadata": {},
   "source": [
    "### Checking Total Variables In Our NoteBook"
   ]
  },
  {
   "cell_type": "code",
   "execution_count": 11,
   "id": "30f3fa84-70b8-40d8-96a0-a993c08c69b2",
   "metadata": {},
   "outputs": [
    {
     "name": "stdout",
     "output_type": "stream",
     "text": [
      "Variable   Type     Data/Info\n",
      "-----------------------------\n",
      "a          int      10\n",
      "b          float    2.2\n",
      "c          str      gulshan\n",
      "x          int      5\n",
      "y          str      we are learning python\n"
     ]
    }
   ],
   "source": [
    "%whos"
   ]
  },
  {
   "cell_type": "markdown",
   "id": "2200f694-b3a2-424d-aa30-f7547b1def9f",
   "metadata": {},
   "source": [
    "### Rules For Python Variables"
   ]
  },
  {
   "cell_type": "markdown",
   "id": "0c46857a-f3ce-4354-941e-4bc247c440a5",
   "metadata": {},
   "source": [
    "#### Rule 1 : A variable name must start with a letter or the underscore character"
   ]
  },
  {
   "cell_type": "code",
   "execution_count": 12,
   "id": "c9e29cbe-d6af-411d-bfd1-9c792b9ebed5",
   "metadata": {},
   "outputs": [
    {
     "name": "stdout",
     "output_type": "stream",
     "text": [
      "23\n"
     ]
    }
   ],
   "source": [
    "apple = 23\n",
    "print(apple)"
   ]
  },
  {
   "cell_type": "code",
   "execution_count": 13,
   "id": "ed97ce59-0541-4b36-ac0e-17889e9c8111",
   "metadata": {},
   "outputs": [
    {
     "ename": "SyntaxError",
     "evalue": "invalid syntax (2605128452.py, line 2)",
     "output_type": "error",
     "traceback": [
      "\u001b[1;36m  Cell \u001b[1;32mIn[13], line 2\u001b[1;36m\u001b[0m\n\u001b[1;33m    apple box = 12\u001b[0m\n\u001b[1;37m          ^\u001b[0m\n\u001b[1;31mSyntaxError\u001b[0m\u001b[1;31m:\u001b[0m invalid syntax\n"
     ]
    }
   ],
   "source": [
    "# using space in variable name\n",
    "apple box = 12\n",
    "print(apple box)"
   ]
  },
  {
   "cell_type": "code",
   "execution_count": 14,
   "id": "b38e66fe-2fa7-4513-9bbd-212ef44afc2e",
   "metadata": {},
   "outputs": [
    {
     "name": "stdout",
     "output_type": "stream",
     "text": [
      "12\n"
     ]
    }
   ],
   "source": [
    "# using underscore instead of space\n",
    "apple_box = 12\n",
    "print(apple_box)"
   ]
  },
  {
   "cell_type": "code",
   "execution_count": 17,
   "id": "8ac3b628-6ada-434a-a879-b33d62c4861f",
   "metadata": {},
   "outputs": [
    {
     "name": "stdout",
     "output_type": "stream",
     "text": [
      "22\n"
     ]
    }
   ],
   "source": [
    "# just used underscore as variable name\n",
    "_ = 22\n",
    "print(_)"
   ]
  },
  {
   "cell_type": "code",
   "execution_count": 18,
   "id": "9e68ef0f-030d-4ec1-a0a0-f9403332636b",
   "metadata": {},
   "outputs": [
    {
     "name": "stdout",
     "output_type": "stream",
     "text": [
      "gulshan\n"
     ]
    }
   ],
   "source": [
    "_z = \"gulshan\"\n",
    "print(_z)"
   ]
  },
  {
   "cell_type": "code",
   "execution_count": 19,
   "id": "a60227be-e4d1-42b7-b1aa-06707a3f8c3b",
   "metadata": {},
   "outputs": [
    {
     "name": "stdout",
     "output_type": "stream",
     "text": [
      "25\n"
     ]
    }
   ],
   "source": [
    "nmp_ = 25\n",
    "print(nmp_)"
   ]
  },
  {
   "cell_type": "markdown",
   "id": "f83a5b4d-bcde-43a7-9d37-368a8ebc8d21",
   "metadata": {},
   "source": [
    "#### Rule 2 : A variable name cannot start with number"
   ]
  },
  {
   "cell_type": "code",
   "execution_count": 20,
   "id": "bb054c81-89a2-4a71-bee8-84f2e67cc885",
   "metadata": {},
   "outputs": [
    {
     "ename": "SyntaxError",
     "evalue": "cannot assign to literal here. Maybe you meant '==' instead of '='? (998666931.py, line 1)",
     "output_type": "error",
     "traceback": [
      "\u001b[1;36m  Cell \u001b[1;32mIn[20], line 1\u001b[1;36m\u001b[0m\n\u001b[1;33m    1 = 5\u001b[0m\n\u001b[1;37m    ^\u001b[0m\n\u001b[1;31mSyntaxError\u001b[0m\u001b[1;31m:\u001b[0m cannot assign to literal here. Maybe you meant '==' instead of '='?\n"
     ]
    }
   ],
   "source": [
    "1 = 5\n",
    "print(1)"
   ]
  },
  {
   "cell_type": "code",
   "execution_count": 23,
   "id": "2612d7de-42ac-4692-8d5d-f539f85803b8",
   "metadata": {},
   "outputs": [
    {
     "ename": "SyntaxError",
     "evalue": "invalid decimal literal (3104225020.py, line 1)",
     "output_type": "error",
     "traceback": [
      "\u001b[1;36m  Cell \u001b[1;32mIn[23], line 1\u001b[1;36m\u001b[0m\n\u001b[1;33m    1_apple = 213\u001b[0m\n\u001b[1;37m     ^\u001b[0m\n\u001b[1;31mSyntaxError\u001b[0m\u001b[1;31m:\u001b[0m invalid decimal literal\n"
     ]
    }
   ],
   "source": [
    "1_apple = 213\n",
    "print(1_apple)"
   ]
  },
  {
   "cell_type": "markdown",
   "id": "fe127599-27bc-4999-84a8-68f8b5231bd8",
   "metadata": {},
   "source": [
    "#### Rule 3 : A variable can contain only (A-z, 0-9, and _ )"
   ]
  },
  {
   "cell_type": "code",
   "execution_count": 24,
   "id": "ffd9d5b6-16fc-4eeb-ba97-653dc9a8743f",
   "metadata": {},
   "outputs": [
    {
     "name": "stdout",
     "output_type": "stream",
     "text": [
      "453\n"
     ]
    }
   ],
   "source": [
    "abc123nmp = 453\n",
    "print(abc123nmp)"
   ]
  },
  {
   "cell_type": "code",
   "execution_count": 25,
   "id": "e0f19fdc-3591-447c-be45-9de01657c079",
   "metadata": {},
   "outputs": [
    {
     "ename": "SyntaxError",
     "evalue": "invalid syntax (2713628042.py, line 1)",
     "output_type": "error",
     "traceback": [
      "\u001b[1;36m  Cell \u001b[1;32mIn[25], line 1\u001b[1;36m\u001b[0m\n\u001b[1;33m    &dollar@ = 24\u001b[0m\n\u001b[1;37m    ^\u001b[0m\n\u001b[1;31mSyntaxError\u001b[0m\u001b[1;31m:\u001b[0m invalid syntax\n"
     ]
    }
   ],
   "source": [
    "&dollar@ = 24\n",
    "print(&dollar@)"
   ]
  },
  {
   "cell_type": "markdown",
   "id": "67afb8f5-f54d-48b5-ab8c-bf60aac77bad",
   "metadata": {},
   "source": [
    "#### Rule 4 : A variable name is case sensitive"
   ]
  },
  {
   "cell_type": "code",
   "execution_count": 26,
   "id": "18b68bec-0468-462e-9852-a771dba3285b",
   "metadata": {},
   "outputs": [
    {
     "name": "stdout",
     "output_type": "stream",
     "text": [
      "21\n",
      "22\n",
      "23\n",
      "24\n"
     ]
    }
   ],
   "source": [
    "age = 21\n",
    "Age = 22\n",
    "AGE = 23\n",
    "aGe = 24\n",
    "print(age)\n",
    "print(Age)\n",
    "print(AGE)\n",
    "print(aGe)"
   ]
  },
  {
   "cell_type": "markdown",
   "id": "91a7ed6e-24c9-4a5d-9c79-a68353f8c120",
   "metadata": {},
   "source": [
    "#### Rule 5 : "
   ]
  },
  {
   "cell_type": "code",
   "execution_count": null,
   "id": "e9b5c4b3-2ded-44ca-aba5-f81096bcaef8",
   "metadata": {},
   "outputs": [],
   "source": []
  },
  {
   "cell_type": "markdown",
   "id": "3e4ac6df-93b2-4586-990a-fda1ca19bba6",
   "metadata": {},
   "source": [
    "## Data Types in python "
   ]
  },
  {
   "cell_type": "code",
   "execution_count": 38,
   "id": "d948bf65-7b8a-47f7-98e4-f1c5808ad7a8",
   "metadata": {},
   "outputs": [
    {
     "name": "stdout",
     "output_type": "stream",
     "text": [
      "2\n",
      "<class 'int'>\n",
      "<class 'float'>\n"
     ]
    },
    {
     "data": {
      "text/plain": [
       "str"
      ]
     },
     "execution_count": 38,
     "metadata": {},
     "output_type": "execute_result"
    }
   ],
   "source": [
    "a = 2\n",
    "b = 1.5\n",
    "c = \"my name is gulshan\"\n",
    "# printing datatype of our variable\n",
    "print(a)\n",
    "print(type(a))\n",
    "print(type(b))\n",
    "# we can just use type(variable) too\n",
    "\n",
    "type(c)"
   ]
  },
  {
   "cell_type": "code",
   "execution_count": 30,
   "id": "6df4066b-9a12-4c07-a8b3-b6c032866e4e",
   "metadata": {},
   "outputs": [
    {
     "name": "stdout",
     "output_type": "stream",
     "text": [
      "(2+3j)\n",
      "<class 'complex'>\n"
     ]
    }
   ],
   "source": [
    "v = 2 + 3j\n",
    "print(v)\n",
    "print(type(v))"
   ]
  },
  {
   "cell_type": "code",
   "execution_count": 31,
   "id": "4b348960-504b-47e1-87b6-e718bfc7de8c",
   "metadata": {},
   "outputs": [
    {
     "name": "stdout",
     "output_type": "stream",
     "text": [
      "[23, 24, 25, 26]\n",
      "<class 'list'>\n"
     ]
    }
   ],
   "source": [
    "num = [23, 24, 25, 26]\n",
    "print(num)\n",
    "print(type(num))"
   ]
  },
  {
   "cell_type": "code",
   "execution_count": 33,
   "id": "0fd59625-be45-4f5d-8f88-b31f7c6e1abe",
   "metadata": {},
   "outputs": [
    {
     "name": "stdout",
     "output_type": "stream",
     "text": [
      "<class 'bool'>\n"
     ]
    }
   ],
   "source": [
    "num1 = True\n",
    "print(type(num1))"
   ]
  },
  {
   "cell_type": "code",
   "execution_count": 36,
   "id": "e7d2dd39-a6fe-4978-90b3-038a4836090b",
   "metadata": {},
   "outputs": [
    {
     "name": "stdout",
     "output_type": "stream",
     "text": [
      "<class 'bool'>\n"
     ]
    }
   ],
   "source": [
    "num2 = False\n",
    "print(type(num1))"
   ]
  },
  {
   "cell_type": "markdown",
   "id": "00c86369-93d5-41ba-9f39-fa2805fcf028",
   "metadata": {},
   "source": [
    "# Practice Problems"
   ]
  },
  {
   "cell_type": "markdown",
   "id": "7417a086-6d64-4bf9-9c9c-817388f01c2e",
   "metadata": {},
   "source": [
    "### Q.1: Concatenate Strings"
   ]
  },
  {
   "cell_type": "code",
   "execution_count": 42,
   "id": "08c8d2a5-bc5d-4ff0-8454-9a55f63f1e9e",
   "metadata": {},
   "outputs": [
    {
     "name": "stdout",
     "output_type": "stream",
     "text": [
      "Abdul Rehman\n"
     ]
    }
   ],
   "source": [
    "first_name = \"Abdul\"\n",
    "last_name = \"Rehman\"\n",
    "full_name = first_name + \" \" + last_name\n",
    "print(full_name)"
   ]
  },
  {
   "cell_type": "markdown",
   "id": "a4952688-82c5-4dbf-af98-059beaabb094",
   "metadata": {},
   "source": [
    "### Q.2: Reassign value"
   ]
  },
  {
   "cell_type": "code",
   "execution_count": 44,
   "id": "0b48efb8-373b-4076-8b5a-efcc732c181e",
   "metadata": {},
   "outputs": [
    {
     "name": "stdout",
     "output_type": "stream",
     "text": [
      "5\n",
      "10\n"
     ]
    }
   ],
   "source": [
    "x = 5\n",
    "print(x)\n",
    "x = 10\n",
    "print(x)"
   ]
  },
  {
   "cell_type": "code",
   "execution_count": null,
   "id": "7eff6bb7-9197-4f14-8d2d-a1188b8b444f",
   "metadata": {},
   "outputs": [],
   "source": []
  }
 ],
 "metadata": {
  "kernelspec": {
   "display_name": "Python [conda env:base] *",
   "language": "python",
   "name": "conda-base-py"
  },
  "language_info": {
   "codemirror_mode": {
    "name": "ipython",
    "version": 3
   },
   "file_extension": ".py",
   "mimetype": "text/x-python",
   "name": "python",
   "nbconvert_exporter": "python",
   "pygments_lexer": "ipython3",
   "version": "3.12.7"
  }
 },
 "nbformat": 4,
 "nbformat_minor": 5
}
