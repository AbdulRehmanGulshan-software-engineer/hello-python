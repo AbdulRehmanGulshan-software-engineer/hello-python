{
 "cells": [
  {
   "cell_type": "markdown",
   "id": "62622ce5-719a-49ca-bf3a-8af0b1135747",
   "metadata": {},
   "source": [
    "#### Strings In Python (part 02)"
   ]
  },
  {
   "cell_type": "markdown",
   "id": "5ccc3c5f-465f-43b1-8e73-aeeb8cb53081",
   "metadata": {},
   "source": [
    "##### String Methods"
   ]
  },
  {
   "cell_type": "markdown",
   "id": "db4d6c26-ce85-49be-ab2a-eb94d59047bf",
   "metadata": {},
   "source": [
    "###### length-method"
   ]
  },
  {
   "cell_type": "code",
   "execution_count": 2,
   "id": "191ca5ca-f9ef-43a6-b527-7c66966735e0",
   "metadata": {},
   "outputs": [
    {
     "name": "stdout",
     "output_type": "stream",
     "text": [
      "20\n"
     ]
    }
   ],
   "source": [
    "# length of string\n",
    "s = \"abdul rehman gulshan\"\n",
    "print(len(s))"
   ]
  },
  {
   "cell_type": "code",
   "execution_count": 3,
   "id": "97210629-8f1c-4b8c-bd9b-41fbb2e02100",
   "metadata": {},
   "outputs": [
    {
     "name": "stdout",
     "output_type": "stream",
     "text": [
      "0\n"
     ]
    }
   ],
   "source": [
    "s = \"\"\n",
    "print(len(s))"
   ]
  },
  {
   "cell_type": "code",
   "execution_count": 4,
   "id": "b12930a2-18bf-407c-bd32-bcfb481c19bf",
   "metadata": {},
   "outputs": [
    {
     "name": "stdout",
     "output_type": "stream",
     "text": [
      "1\n"
     ]
    }
   ],
   "source": [
    "s = \" \"\n",
    "print(len(s))"
   ]
  },
  {
   "cell_type": "code",
   "execution_count": 5,
   "id": "8ecd1769-2c52-449d-8be2-c55c048cdb7d",
   "metadata": {},
   "outputs": [
    {
     "name": "stdout",
     "output_type": "stream",
     "text": [
      "2\n"
     ]
    }
   ],
   "source": [
    "s = \"  \"\n",
    "print(len(s))"
   ]
  },
  {
   "cell_type": "markdown",
   "id": "12b46d3b-172f-4994-96a0-6610e1edfca8",
   "metadata": {},
   "source": [
    "###### strings with special symbols"
   ]
  },
  {
   "cell_type": "code",
   "execution_count": 10,
   "id": "2f79f2c8-3ebd-4e75-bb0f-23707d62d9b0",
   "metadata": {},
   "outputs": [
    {
     "name": "stdout",
     "output_type": "stream",
     "text": [
      "hello\n",
      "world\n",
      "11\n"
     ]
    }
   ],
   "source": [
    "s = \"hello\\nworld\"\n",
    "print(s)\n",
    "print(len(s))"
   ]
  },
  {
   "cell_type": "code",
   "execution_count": 11,
   "id": "b0eb812b-2d48-43da-85fa-c4f4195c3b4a",
   "metadata": {},
   "outputs": [
    {
     "name": "stdout",
     "output_type": "stream",
     "text": [
      "hello@world\n",
      "11\n"
     ]
    }
   ],
   "source": [
    "s = \"hello@world\"\n",
    "print(s)\n",
    "print(len(s))"
   ]
  },
  {
   "cell_type": "code",
   "execution_count": 12,
   "id": "3588e809-8b29-411d-b2ce-c8895d43ad80",
   "metadata": {},
   "outputs": [
    {
     "name": "stdout",
     "output_type": "stream",
     "text": [
      "hello\n",
      "world\n",
      "11\n"
     ]
    }
   ],
   "source": [
    "s = \"\"\"hello\n",
    "world\"\"\"\n",
    "print(s)\n",
    "print(len(s))"
   ]
  },
  {
   "cell_type": "markdown",
   "id": "1445052b-fbcd-4fe4-92d0-92e501f1cd64",
   "metadata": {},
   "source": [
    "##### Python-Modify Strings"
   ]
  },
  {
   "cell_type": "markdown",
   "id": "d1b92d51-13b1-4c54-b6d4-661e6158afbe",
   "metadata": {},
   "source": [
    "###### upper method"
   ]
  },
  {
   "cell_type": "code",
   "execution_count": 17,
   "id": "37056443-f4b1-4d32-bd43-e49047221939",
   "metadata": {},
   "outputs": [
    {
     "name": "stdout",
     "output_type": "stream",
     "text": [
      "THIS IS THE GULSHAN\n"
     ]
    }
   ],
   "source": [
    "s = \"this is the gulshan\"\n",
    "print(s.upper())"
   ]
  },
  {
   "cell_type": "code",
   "execution_count": 18,
   "id": "47919617-d1a3-44a3-8494-b6c1687ff7a1",
   "metadata": {},
   "outputs": [
    {
     "name": "stdout",
     "output_type": "stream",
     "text": [
      "THIS IS THE GULSHAN\n"
     ]
    }
   ],
   "source": [
    "s = \"thIS iS tHE GuLsHaN\"\n",
    "print(s.upper())"
   ]
  },
  {
   "cell_type": "code",
   "execution_count": 19,
   "id": "9b3702d1-8163-4dc5-bce9-eff0411a58e9",
   "metadata": {},
   "outputs": [
    {
     "name": "stdout",
     "output_type": "stream",
     "text": [
      "THIS IS THE GULSHAN 123\n"
     ]
    }
   ],
   "source": [
    "s = \"this is the gulshan 123\"\n",
    "print(s.upper())"
   ]
  },
  {
   "cell_type": "markdown",
   "id": "19e570e1-3df8-4dae-8577-61fcce8db56d",
   "metadata": {},
   "source": [
    "###### lower_method"
   ]
  },
  {
   "cell_type": "code",
   "execution_count": 21,
   "id": "dbe1b5d4-4f0d-4126-80d3-a286f37a5b25",
   "metadata": {},
   "outputs": [
    {
     "name": "stdout",
     "output_type": "stream",
     "text": [
      "this is the gulshan\n"
     ]
    }
   ],
   "source": [
    "s = \"THIS IS THE GULSHAN\"\n",
    "print(s.lower())"
   ]
  },
  {
   "cell_type": "code",
   "execution_count": 22,
   "id": "d7e418ad-952d-48a6-a9c2-4b73b701dc86",
   "metadata": {},
   "outputs": [
    {
     "name": "stdout",
     "output_type": "stream",
     "text": [
      "this is my python class\n"
     ]
    }
   ],
   "source": [
    "s = \"This IS mY PyThOn ClAsS\"\n",
    "print(s.lower())"
   ]
  },
  {
   "cell_type": "markdown",
   "id": "160111c8-0231-42e4-8a49-dd9cb3c8c16b",
   "metadata": {},
   "source": [
    "###### String Concatenation"
   ]
  },
  {
   "cell_type": "code",
   "execution_count": 24,
   "id": "77dae381-9ce7-4436-b187-409181f8336c",
   "metadata": {},
   "outputs": [
    {
     "name": "stdout",
     "output_type": "stream",
     "text": [
      "hello world\n"
     ]
    }
   ],
   "source": [
    "a = \"hello\"\n",
    "b = \"world\"\n",
    "print(a + \" \" + b)"
   ]
  },
  {
   "cell_type": "code",
   "execution_count": 30,
   "id": "6f849944-e589-4801-8181-7330e0522c1f",
   "metadata": {},
   "outputs": [
    {
     "name": "stdout",
     "output_type": "stream",
     "text": [
      "datadatadata\n"
     ]
    }
   ],
   "source": [
    "s = \"data\"\n",
    "print(s * 3) # print without any space"
   ]
  },
  {
   "cell_type": "markdown",
   "id": "9f21b1a2-39a8-4be7-b8b4-49cd7a9ff60b",
   "metadata": {},
   "source": [
    "###### Replace method"
   ]
  },
  {
   "cell_type": "code",
   "execution_count": 33,
   "id": "7e085f35-b8e6-44df-b8e2-0e5c8b00700c",
   "metadata": {},
   "outputs": [
    {
     "name": "stdout",
     "output_type": "stream",
     "text": [
      "hello world i am learning data science\n"
     ]
    }
   ],
   "source": [
    "text = \"hello world i am learning python\"\n",
    "rep = text.replace(\"python\",\"data science\")\n",
    "print(rep)"
   ]
  },
  {
   "cell_type": "code",
   "execution_count": 36,
   "id": "33b95136-5450-43e0-8a74-cd86da04b70c",
   "metadata": {},
   "outputs": [
    {
     "name": "stdout",
     "output_type": "stream",
     "text": [
      "The population organization was established in 1950.\n",
      "As a part and parcel of Ministry of Home Affairs.\n",
      "First three population were conducted by this organization while working under that Ministry.\n",
      "After 1972 population, population Organization was established on a permanent footing.\n",
      "Was made an attached department of Ministry of Interior.\n",
      "So as to maintain expertise, experience and continuity which used to be lost after every population as was the case in 1951 and 1961.\n"
     ]
    }
   ],
   "source": [
    "text = \"\"\"The census organization was established in 1950.\n",
    "As a part and parcel of Ministry of Home Affairs.\n",
    "First three census were conducted by this organization while working under that Ministry.\n",
    "After 1972 census, census Organization was established on a permanent footing.\n",
    "Was made an attached department of Ministry of Interior.\n",
    "So as to maintain expertise, experience and continuity which used to be lost after every census as was the case in 1951 and 1961.\"\"\"\n",
    "rep = text.replace(\"census\",\"population\")\n",
    "print(rep)"
   ]
  },
  {
   "cell_type": "markdown",
   "id": "ba945950-bc2e-4f94-befc-b864184eb151",
   "metadata": {},
   "source": [
    "###### index-method"
   ]
  },
  {
   "cell_type": "code",
   "execution_count": 42,
   "id": "a450b4c0-7ddf-47bf-88eb-767253a37206",
   "metadata": {},
   "outputs": [
    {
     "name": "stdout",
     "output_type": "stream",
     "text": [
      "7\n"
     ]
    }
   ],
   "source": [
    "text = \"i want to learn python\"\n",
    "print(text.index(\"to\"))"
   ]
  },
  {
   "cell_type": "markdown",
   "id": "77139ee7-b9e1-426c-a3b3-fbd644f595d4",
   "metadata": {},
   "source": [
    "###### find-method"
   ]
  },
  {
   "cell_type": "code",
   "execution_count": 43,
   "id": "03adf55d-cbad-4bf8-9014-1aa8ec7c3743",
   "metadata": {},
   "outputs": [
    {
     "name": "stdout",
     "output_type": "stream",
     "text": [
      "10\n"
     ]
    }
   ],
   "source": [
    "a = \"python is great\"\n",
    "b = a.find(\"g\")\n",
    "print(b)"
   ]
  },
  {
   "cell_type": "markdown",
   "id": "48b06246-cb2d-474f-8acf-c702567d0283",
   "metadata": {},
   "source": [
    "#### Practice Questions"
   ]
  },
  {
   "cell_type": "code",
   "execution_count": 46,
   "id": "18d0fd0f-5def-4e84-b5ea-ce9c266a6dde",
   "metadata": {},
   "outputs": [
    {
     "name": "stdout",
     "output_type": "stream",
     "text": [
      "hello world\n"
     ]
    }
   ],
   "source": [
    "# cocatenate strings\n",
    "a = \"hello\" + \" \" + \"world\"\n",
    "print(a)"
   ]
  },
  {
   "cell_type": "code",
   "execution_count": 47,
   "id": "e38d4597-31ee-4562-aeef-af683dd67d4c",
   "metadata": {},
   "outputs": [
    {
     "name": "stdout",
     "output_type": "stream",
     "text": [
      "11\n"
     ]
    }
   ],
   "source": [
    "# find length of resulting string\n",
    "print(len(a))"
   ]
  },
  {
   "cell_type": "code",
   "execution_count": 50,
   "id": "b75b2802-cf81-424f-865b-6c65ccb7ec2f",
   "metadata": {},
   "outputs": [
    {
     "name": "stdout",
     "output_type": "stream",
     "text": [
      "world\n"
     ]
    }
   ],
   "source": [
    "# extract the substring world from string\n",
    "print(a[6:])"
   ]
  },
  {
   "cell_type": "code",
   "execution_count": 55,
   "id": "e1c4e4c8-e039-404e-9825-90b14d28c690",
   "metadata": {},
   "outputs": [
    {
     "name": "stdout",
     "output_type": "stream",
     "text": [
      "dlrow\n"
     ]
    }
   ],
   "source": [
    "# reverse substring obtained\n",
    "print(a[:5:-1])"
   ]
  },
  {
   "cell_type": "code",
   "execution_count": 59,
   "id": "694e7c01-c81d-48aa-ba96-74f8e1bbea71",
   "metadata": {},
   "outputs": [
    {
     "name": "stdout",
     "output_type": "stream",
     "text": [
      "DLROW\n"
     ]
    }
   ],
   "source": [
    "# convert it to upper case\n",
    "b = a[:5:-1]\n",
    "upper = b.upper()\n",
    "print(upper)"
   ]
  },
  {
   "cell_type": "code",
   "execution_count": 61,
   "id": "d55b057b-0510-4344-ad28-e39839d82539",
   "metadata": {},
   "outputs": [
    {
     "name": "stdout",
     "output_type": "stream",
     "text": [
      "DxROW\n"
     ]
    }
   ],
   "source": [
    "# replace L with x\n",
    "c = upper.replace(\"L\",\"x\")\n",
    "print(c)"
   ]
  }
 ],
 "metadata": {
  "kernelspec": {
   "display_name": "Python [conda env:base] *",
   "language": "python",
   "name": "conda-base-py"
  },
  "language_info": {
   "codemirror_mode": {
    "name": "ipython",
    "version": 3
   },
   "file_extension": ".py",
   "mimetype": "text/x-python",
   "name": "python",
   "nbconvert_exporter": "python",
   "pygments_lexer": "ipython3",
   "version": "3.12.7"
  }
 },
 "nbformat": 4,
 "nbformat_minor": 5
}
