{
 "cells": [
  {
   "cell_type": "markdown",
   "id": "ac588fff-6bac-4273-a16c-e1b70296e23c",
   "metadata": {},
   "source": [
    "### 2 : For Loop"
   ]
  },
  {
   "cell_type": "markdown",
   "id": "17a53174-4346-4f4a-a7ae-d40d2f13c58a",
   "metadata": {},
   "source": [
    "###### the for loop in python is indeed used to iterate over sequences such as lists,tuples,strings,dictionaries,and ranges.it allows you to execute a block of code for each ite in the sequence"
   ]
  },
  {
   "cell_type": "code",
   "execution_count": 1,
   "id": "8faa0201-e8ec-4461-8347-35edf33b4f4c",
   "metadata": {},
   "outputs": [
    {
     "name": "stdout",
     "output_type": "stream",
     "text": [
      "1\n",
      "2\n",
      "3\n",
      "4\n",
      "5\n"
     ]
    }
   ],
   "source": [
    "# create a list\n",
    "numbers = [1,2,3,4,5]\n",
    "# for loop\n",
    "for i in numbers:\n",
    "    print(i)"
   ]
  },
  {
   "cell_type": "code",
   "execution_count": 2,
   "id": "1ced79c8-c702-445f-a22b-cb207bf22c34",
   "metadata": {},
   "outputs": [
    {
     "name": "stdout",
     "output_type": "stream",
     "text": [
      "s\n",
      "t\n",
      "u\n",
      "d\n",
      "e\n",
      "n\n",
      "t\n",
      "s\n"
     ]
    }
   ],
   "source": [
    "# create a string\n",
    "n = \"students\"\n",
    "# for loop\n",
    "for i in n:\n",
    "    print(i)"
   ]
  },
  {
   "cell_type": "code",
   "execution_count": 3,
   "id": "ff1f314b-ea62-48bb-bf84-d0b56dc2ad8c",
   "metadata": {},
   "outputs": [
    {
     "name": "stdout",
     "output_type": "stream",
     "text": [
      "0\n",
      "1\n",
      "2\n",
      "3\n",
      "4\n",
      "5\n",
      "6\n",
      "7\n",
      "8\n",
      "9\n",
      "10\n"
     ]
    }
   ],
   "source": [
    "# range (0 to 10 print)\n",
    "for i in range(11):\n",
    "    print(i)"
   ]
  },
  {
   "cell_type": "code",
   "execution_count": 5,
   "id": "29f276b1-3668-40a5-9038-d3baa8c9b5fc",
   "metadata": {},
   "outputs": [
    {
     "name": "stdout",
     "output_type": "stream",
     "text": [
      "5\n",
      "6\n",
      "7\n",
      "8\n",
      "9\n",
      "10\n",
      "11\n",
      "12\n",
      "13\n"
     ]
    }
   ],
   "source": [
    "# range (5 to 13)\n",
    "for x in range(5,14):\n",
    "    print(x)"
   ]
  },
  {
   "cell_type": "markdown",
   "id": "fb95280e-3993-4470-ae2c-65fdf06688aa",
   "metadata": {},
   "source": [
    "#### For Loop and If condition"
   ]
  },
  {
   "cell_type": "markdown",
   "id": "c2d8cf04-1675-4402-8fd5-bfd732ceb53f",
   "metadata": {},
   "source": [
    "##### print even in range 0 to 15"
   ]
  },
  {
   "cell_type": "code",
   "execution_count": 7,
   "id": "d6573f17-ac47-4f8b-9270-5511eaade5ec",
   "metadata": {},
   "outputs": [
    {
     "name": "stdout",
     "output_type": "stream",
     "text": [
      "0\n",
      "2\n",
      "4\n",
      "6\n",
      "8\n",
      "10\n",
      "12\n",
      "14\n"
     ]
    }
   ],
   "source": [
    "for n in range(0,16):\n",
    "    if n%2 == 0:\n",
    "        print(n)"
   ]
  },
  {
   "cell_type": "markdown",
   "id": "058610bb-8f51-4d4c-8a05-04193fdb8b5d",
   "metadata": {},
   "source": [
    "##### For Loop and if else"
   ]
  },
  {
   "cell_type": "code",
   "execution_count": 3,
   "id": "6d6d3947-fa89-4507-b8f9-f73fa9370e30",
   "metadata": {},
   "outputs": [
    {
     "name": "stdout",
     "output_type": "stream",
     "text": [
      "number is even:2\n",
      "number is odd:3\n",
      "number is even:4\n",
      "number is odd:5\n",
      "number is even:6\n",
      "number is odd:7\n",
      "number is even:8\n",
      "number is odd:9\n",
      "number is even:10\n"
     ]
    }
   ],
   "source": [
    "for x in range(2,11):\n",
    "    if x%2 == 0:\n",
    "        print(\"number is even\",x,sep=\":\")\n",
    "    else:\n",
    "        print(\"number is odd\",x,sep=\":\")"
   ]
  },
  {
   "cell_type": "markdown",
   "id": "a778a626-181e-40fb-9c4e-04b89028dc3f",
   "metadata": {},
   "source": [
    "##### Problem : generate the multiplication table of a given number using a for loop"
   ]
  },
  {
   "cell_type": "code",
   "execution_count": 15,
   "id": "3b60937b-77fd-4254-b0ce-2c06a92295a9",
   "metadata": {},
   "outputs": [
    {
     "name": "stdin",
     "output_type": "stream",
     "text": [
      "enter the number for table 9\n"
     ]
    },
    {
     "name": "stdout",
     "output_type": "stream",
     "text": [
      "9 * 1 = 9\n",
      "9 * 2 = 18\n",
      "9 * 3 = 27\n",
      "9 * 4 = 36\n",
      "9 * 5 = 45\n",
      "9 * 6 = 54\n",
      "9 * 7 = 63\n",
      "9 * 8 = 72\n",
      "9 * 9 = 81\n",
      "9 * 10 = 90\n"
     ]
    }
   ],
   "source": [
    "# input for tale\n",
    "number = int(input(\"enter the number for table\"))\n",
    "#  for loop\n",
    "for n in range(1,11):\n",
    "    print(f\"{number} * {n} = {number*n}\")"
   ]
  },
  {
   "cell_type": "markdown",
   "id": "5a130728-db21-49ea-b3fa-bf7eabe2d2c2",
   "metadata": {},
   "source": [
    "#### Practice Question : Assist shoppers in calculating their bikk"
   ]
  },
  {
   "cell_type": "code",
   "execution_count": 4,
   "id": "62cb7e38-82aa-412b-8f11-7a21578172cc",
   "metadata": {},
   "outputs": [
    {
     "name": "stdin",
     "output_type": "stream",
     "text": [
      "enter total items 5\n",
      "enter item 1 price 100\n",
      "enter item 2 price 200\n",
      "enter item 3 price 300\n",
      "enter item 4 price 400\n",
      "enter item 5 price 500\n"
     ]
    },
    {
     "name": "stdout",
     "output_type": "stream",
     "text": [
      "total purchase price with discount is : 1350.0 $\n"
     ]
    }
   ],
   "source": [
    "# input total number of items\n",
    "num_items = int(input(\"enter total items\"))\n",
    "\n",
    "# for loop for price input and calculation\n",
    "total_price = 0\n",
    "for i in range(num_items):\n",
    "    price = float(input(f\"enter item {i+1} price\"))\n",
    "    total_price = total_price + price\n",
    "\n",
    "# conditional statements\n",
    "if total_price>=100:\n",
    "    total_price = total_price*(1-0.10)\n",
    "elif 50<total_price<99.9:\n",
    "    total_price = total_price*(1-0.05)\n",
    "else:\n",
    "    total_price = total_price\n",
    "\n",
    "# display output\n",
    "print(\"total purchase price with discount is :\",total_price,\"$\")"
   ]
  },
  {
   "cell_type": "markdown",
   "id": "5b9ec8a2-3832-4ccf-92a6-c24bd5f76345",
   "metadata": {},
   "source": [
    "#### break Statement"
   ]
  },
  {
   "cell_type": "markdown",
   "id": "d420f945-fbf2-423b-84d2-0d7d752b7cd7",
   "metadata": {},
   "source": [
    "###### we can use the break statement with the for loop to terminate the loop when out=r certain condition met"
   ]
  },
  {
   "cell_type": "code",
   "execution_count": 10,
   "id": "fd542d3c-9330-4993-b2ef-a056fc3619c5",
   "metadata": {},
   "outputs": [
    {
     "name": "stdout",
     "output_type": "stream",
     "text": [
      "0\n",
      "1\n",
      "2\n"
     ]
    }
   ],
   "source": [
    "for i in range(5):\n",
    "    if i == 3:\n",
    "        break # will end the loops iteration at 4th iteration\n",
    "    print(i)"
   ]
  },
  {
   "cell_type": "markdown",
   "id": "b47d4c33-ad6f-449d-9482-efccd62f5d54",
   "metadata": {},
   "source": [
    "#### continue Statement"
   ]
  },
  {
   "cell_type": "markdown",
   "id": "7e6b519f-1730-4521-a9f1-a9fc4dce8124",
   "metadata": {},
   "source": [
    "###### is used to skip the current iteration of the loop and the current flow of the program goes to the next iteration"
   ]
  },
  {
   "cell_type": "code",
   "execution_count": 9,
   "id": "2b651ec8-df4e-424a-9b2d-9f0ac6c20912",
   "metadata": {},
   "outputs": [
    {
     "name": "stdout",
     "output_type": "stream",
     "text": [
      "0\n",
      "1\n",
      "2\n",
      "4\n"
     ]
    }
   ],
   "source": [
    "for i in range(5):\n",
    "    if i == 3:\n",
    "        continue # will skip the fourth iteration\n",
    "    print(i)"
   ]
  }
 ],
 "metadata": {
  "kernelspec": {
   "display_name": "Python [conda env:base] *",
   "language": "python",
   "name": "conda-base-py"
  },
  "language_info": {
   "codemirror_mode": {
    "name": "ipython",
    "version": 3
   },
   "file_extension": ".py",
   "mimetype": "text/x-python",
   "name": "python",
   "nbconvert_exporter": "python",
   "pygments_lexer": "ipython3",
   "version": "3.12.7"
  }
 },
 "nbformat": 4,
 "nbformat_minor": 5
}
