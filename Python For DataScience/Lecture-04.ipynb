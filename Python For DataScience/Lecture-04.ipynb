{
 "cells": [
  {
   "cell_type": "markdown",
   "id": "e07fbd5d-329a-47e9-af0e-f23bed541c53",
   "metadata": {},
   "source": [
    "## Built In Functions In Python"
   ]
  },
  {
   "cell_type": "markdown",
   "id": "0b131359-611d-4b22-8a87-a299455df90b",
   "metadata": {},
   "source": [
    "#### Float Function"
   ]
  },
  {
   "cell_type": "code",
   "execution_count": 5,
   "id": "acc39f43-4f90-4623-9819-304c683256c0",
   "metadata": {},
   "outputs": [
    {
     "name": "stdout",
     "output_type": "stream",
     "text": [
      "10\n",
      "<class 'int'>\n",
      "10.0\n",
      "<class 'float'>\n"
     ]
    }
   ],
   "source": [
    "num_int = 10\n",
    "print(num_int)\n",
    "print(type(num_int))\n",
    "a = float(num_int)\n",
    "print(a)\n",
    "print(type(a))"
   ]
  },
  {
   "cell_type": "code",
   "execution_count": 9,
   "id": "c85fdcf5-304d-4ed0-8be1-03cac8f1c9cc",
   "metadata": {},
   "outputs": [
    {
     "name": "stdout",
     "output_type": "stream",
     "text": [
      "3.56\n",
      "<class 'str'>\n",
      "3.56\n",
      "<class 'float'>\n"
     ]
    }
   ],
   "source": [
    "a = \"3.56\"\n",
    "print(a)\n",
    "print(type(a))\n",
    "b = float(a)\n",
    "print(b)\n",
    "print(type(b))"
   ]
  },
  {
   "cell_type": "code",
   "execution_count": 10,
   "id": "170a42ec-39f9-4cb0-a23f-a20e1e2b5a66",
   "metadata": {},
   "outputs": [
    {
     "name": "stdout",
     "output_type": "stream",
     "text": [
      "hello\n",
      "<class 'str'>\n"
     ]
    },
    {
     "ename": "ValueError",
     "evalue": "could not convert string to float: 'hello'",
     "output_type": "error",
     "traceback": [
      "\u001b[1;31m---------------------------------------------------------------------------\u001b[0m",
      "\u001b[1;31mValueError\u001b[0m                                Traceback (most recent call last)",
      "Cell \u001b[1;32mIn[10], line 4\u001b[0m\n\u001b[0;32m      2\u001b[0m \u001b[38;5;28mprint\u001b[39m(a)\n\u001b[0;32m      3\u001b[0m \u001b[38;5;28mprint\u001b[39m(\u001b[38;5;28mtype\u001b[39m(a))\n\u001b[1;32m----> 4\u001b[0m b \u001b[38;5;241m=\u001b[39m \u001b[38;5;28mfloat\u001b[39m(a)\n\u001b[0;32m      5\u001b[0m \u001b[38;5;28mprint\u001b[39m(b)\n\u001b[0;32m      6\u001b[0m \u001b[38;5;28mprint\u001b[39m(\u001b[38;5;28mtype\u001b[39m(b))\n",
      "\u001b[1;31mValueError\u001b[0m: could not convert string to float: 'hello'"
     ]
    }
   ],
   "source": [
    "a = \"hello\"\n",
    "print(a)\n",
    "print(type(a))\n",
    "b = float(a)\n",
    "print(b)\n",
    "print(type(b))"
   ]
  },
  {
   "cell_type": "markdown",
   "id": "71358ee5-46be-4f14-a202-c59bb60cf540",
   "metadata": {},
   "source": [
    "#### int Function"
   ]
  },
  {
   "cell_type": "code",
   "execution_count": 12,
   "id": "e8ecda6e-2445-4829-baac-2fa4779eee89",
   "metadata": {},
   "outputs": [
    {
     "name": "stdout",
     "output_type": "stream",
     "text": [
      "<class 'float'>\n",
      "5\n",
      "<class 'int'>\n"
     ]
    }
   ],
   "source": [
    "a = 5.786874878\n",
    "print(type(a))\n",
    "b = int(a) # convert float to integer\n",
    "print(b)\n",
    "print(type(b))"
   ]
  },
  {
   "cell_type": "code",
   "execution_count": 1,
   "id": "00758f76-4dcc-4cde-97f3-796703967e56",
   "metadata": {},
   "outputs": [
    {
     "name": "stdout",
     "output_type": "stream",
     "text": [
      "<class 'str'>\n",
      "123\n",
      "<class 'int'>\n"
     ]
    }
   ],
   "source": [
    "a1 = \"123\"\n",
    "print(type(a1))\n",
    "b1 = int(a1)\n",
    "print(b1)\n",
    "print(type(b1))"
   ]
  },
  {
   "cell_type": "markdown",
   "id": "ec91b0ee-2b8a-44f3-ac60-9ca893dd0d26",
   "metadata": {},
   "source": [
    "##### Number into string"
   ]
  },
  {
   "cell_type": "markdown",
   "id": "f0e330b3-a72b-45ad-a78e-32194d82d302",
   "metadata": {},
   "source": [
    "###### str function"
   ]
  },
  {
   "cell_type": "code",
   "execution_count": 5,
   "id": "6b8e8209-e6c0-4dda-af59-94e8a6d9ece1",
   "metadata": {},
   "outputs": [
    {
     "name": "stdout",
     "output_type": "stream",
     "text": [
      "<class 'int'>\n",
      "56\n",
      "562\n",
      "58\n"
     ]
    }
   ],
   "source": [
    "a = 56\n",
    "print(type(a))\n",
    "b = str(a)\n",
    "print(b)\n",
    "c = \"2\" \n",
    "print(b + c) # strings can be concatinate\n",
    "print(a + 2) # this is addition"
   ]
  },
  {
   "cell_type": "markdown",
   "id": "029f8426-c251-4a04-a425-e13149b0c78f",
   "metadata": {},
   "source": [
    "###### Cocatinate Landline Number"
   ]
  },
  {
   "cell_type": "code",
   "execution_count": 7,
   "id": "a52808a0-e969-495f-932e-ff6ea3f964f7",
   "metadata": {},
   "outputs": [
    {
     "name": "stdout",
     "output_type": "stream",
     "text": [
      "+9236985478244\n"
     ]
    }
   ],
   "source": [
    "country_code = \"+92\" # stored in string\n",
    "ph_num = \"36985478244\"\n",
    "cell = country_code + ph_num\n",
    "print(cell)"
   ]
  },
  {
   "cell_type": "markdown",
   "id": "0b825e96-16a0-4fe8-a0a1-6efe64feaa39",
   "metadata": {},
   "source": [
    "#### Complex Function"
   ]
  },
  {
   "cell_type": "code",
   "execution_count": 9,
   "id": "7622792f-2961-460c-ae7f-1c2f1155ae10",
   "metadata": {},
   "outputs": [
    {
     "name": "stdout",
     "output_type": "stream",
     "text": [
      "(2+0j)\n"
     ]
    }
   ],
   "source": [
    "comp = complex(2,)\n",
    "print(comp)"
   ]
  },
  {
   "cell_type": "markdown",
   "id": "0c0e7b2e-4ce8-4c12-8414-201f092083e9",
   "metadata": {},
   "source": [
    "#### abs Function"
   ]
  },
  {
   "cell_type": "markdown",
   "id": "33c4f6cf-bbce-41a4-be99-a235bb5966ea",
   "metadata": {},
   "source": [
    "###### always returns positive value"
   ]
  },
  {
   "cell_type": "code",
   "execution_count": 10,
   "id": "4096d829-f9b2-482e-a203-6529b18c8d20",
   "metadata": {},
   "outputs": [
    {
     "name": "stdout",
     "output_type": "stream",
     "text": [
      "23\n"
     ]
    }
   ],
   "source": [
    "x= -23\n",
    "print(abs(x))"
   ]
  },
  {
   "cell_type": "code",
   "execution_count": 11,
   "id": "93ce06b4-9523-4f8f-ac12-dd1375b63e31",
   "metadata": {},
   "outputs": [
    {
     "name": "stdout",
     "output_type": "stream",
     "text": [
      "762.677\n"
     ]
    }
   ],
   "source": [
    "y = -762.677\n",
    "print(abs(y))"
   ]
  },
  {
   "cell_type": "code",
   "execution_count": 12,
   "id": "db9cbe59-ebf8-4620-8598-167cb07ad8ac",
   "metadata": {},
   "outputs": [
    {
     "name": "stdout",
     "output_type": "stream",
     "text": [
      "(-3+4j)\n",
      "5.0\n"
     ]
    }
   ],
   "source": [
    "z = complex(-3,4)\n",
    "print(z)\n",
    "print(abs(z))"
   ]
  },
  {
   "cell_type": "markdown",
   "id": "2e7a1ff6-e355-425f-9df4-8bd63492155e",
   "metadata": {},
   "source": [
    "#### len Function"
   ]
  },
  {
   "cell_type": "code",
   "execution_count": 14,
   "id": "89c52bf0-c059-4646-9e93-60fcb0a38bf2",
   "metadata": {},
   "outputs": [
    {
     "name": "stdout",
     "output_type": "stream",
     "text": [
      "31\n"
     ]
    }
   ],
   "source": [
    "str = \"hello i am abdul rehman gulshan\"\n",
    "print(len(str)) # count total letters .. means length"
   ]
  },
  {
   "cell_type": "code",
   "execution_count": 17,
   "id": "9d688a4c-dca1-444b-a6ad-e4a2f2b8b70c",
   "metadata": {},
   "outputs": [
    {
     "name": "stdout",
     "output_type": "stream",
     "text": [
      "7\n"
     ]
    }
   ],
   "source": [
    "b = \"cat dog\"\n",
    "print(len(b)) # space is also counted"
   ]
  },
  {
   "cell_type": "code",
   "execution_count": 19,
   "id": "84d55ff5-f9ad-4256-a9fa-5dfeada9aee3",
   "metadata": {},
   "outputs": [
    {
     "name": "stdout",
     "output_type": "stream",
     "text": [
      "6\n"
     ]
    }
   ],
   "source": [
    "c = [12,25,5,7,1,76] # list\n",
    "print(len(c))"
   ]
  },
  {
   "cell_type": "markdown",
   "id": "bd30f9ea-fca2-4d7e-b7ac-215d1a9a3eca",
   "metadata": {},
   "source": [
    "### Practice Questions"
   ]
  },
  {
   "cell_type": "markdown",
   "id": "da90817e-774c-4d38-838b-29c548bb400a",
   "metadata": {},
   "source": [
    "##### Question 1 : score board"
   ]
  },
  {
   "cell_type": "code",
   "execution_count": 24,
   "id": "06a0dc3c-dd8b-4975-8f06-3fd1aabbae96",
   "metadata": {},
   "outputs": [
    {
     "name": "stdout",
     "output_type": "stream",
     "text": [
      "Player score = 1234\n"
     ]
    }
   ],
   "source": [
    "score = 1234.56\n",
    "print(\"Player score =\",int(score))"
   ]
  },
  {
   "cell_type": "markdown",
   "id": "9753728e-615f-4df4-9f4a-4c49263ac85e",
   "metadata": {},
   "source": [
    "##### Question 2 : CRM"
   ]
  },
  {
   "cell_type": "code",
   "execution_count": 25,
   "id": "1bd4e0db-2b0d-42c0-abe4-60dbbb831b07",
   "metadata": {},
   "outputs": [
    {
     "name": "stdout",
     "output_type": "stream",
     "text": [
      "total number of customers = 3\n"
     ]
    }
   ],
   "source": [
    "customer_database = [(1,'a.r.gulshan','gulshan.pucit@gmail.com'),\n",
    "                     (2,'arslan gulshan','shani@gmail.com'),\n",
    "                     (3,'rafay saikhu','saikhu@gmail.com')];\n",
    "print(\"total number of customers =\" ,len(customer_database))"
   ]
  },
  {
   "cell_type": "markdown",
   "id": "c535c3d8-2333-4c67-827c-067eefe36fd9",
   "metadata": {},
   "source": [
    "##### Question 3 : Simple Interest Rate"
   ]
  },
  {
   "cell_type": "code",
   "execution_count": 3,
   "id": "63d564af-e83a-4779-8fcf-533e5f40a7fe",
   "metadata": {},
   "outputs": [
    {
     "name": "stdout",
     "output_type": "stream",
     "text": [
      "the simple interest =  73235\n"
     ]
    }
   ],
   "source": [
    "p = 250000 # principle amount\n",
    "r = 9.76472 # ointerest rate\n",
    "t = 3 # time period\n",
    "SI = (p*r*t)/100\n",
    "print(\"the simple interest = \",int(SI)) # floating to integer"
   ]
  }
 ],
 "metadata": {
  "kernelspec": {
   "display_name": "base",
   "language": "python",
   "name": "python3"
  },
  "language_info": {
   "codemirror_mode": {
    "name": "ipython",
    "version": 3
   },
   "file_extension": ".py",
   "mimetype": "text/x-python",
   "name": "python",
   "nbconvert_exporter": "python",
   "pygments_lexer": "ipython3",
   "version": "3.12.7"
  }
 },
 "nbformat": 4,
 "nbformat_minor": 5
}
