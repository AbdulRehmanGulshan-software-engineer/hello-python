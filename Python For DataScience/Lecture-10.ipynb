{
 "cells": [
  {
   "cell_type": "markdown",
   "id": "c0d93de2-e745-4938-bf68-b60073bccf68",
   "metadata": {},
   "source": [
    "### User Defined Functions"
   ]
  },
  {
   "cell_type": "markdown",
   "id": "b9d53b43-7599-4702-bf1f-5c9ae39db221",
   "metadata": {},
   "source": [
    "#### Creating a Function"
   ]
  },
  {
   "cell_type": "markdown",
   "id": "c16ccda2-da6f-45d5-82f4-102194aa03ea",
   "metadata": {},
   "source": [
    "##### In python a function is defined by using the def keyword"
   ]
  },
  {
   "cell_type": "code",
   "execution_count": 1,
   "id": "0f014ae5-3109-4b1f-a301-e01eb0500aef",
   "metadata": {},
   "outputs": [
    {
     "name": "stdout",
     "output_type": "stream",
     "text": [
      "Hello from Gulshan\n"
     ]
    }
   ],
   "source": [
    "# example\n",
    "# creating a function\n",
    "def my_function():\n",
    "    print(\"Hello from Gulshan\")\n",
    "# calling a function\n",
    "my_function()"
   ]
  },
  {
   "cell_type": "markdown",
   "id": "ba5ad61d-3247-4d0b-8b0a-75a25728be80",
   "metadata": {},
   "source": [
    "#### Calculating Bill Function 🔻"
   ]
  },
  {
   "cell_type": "code",
   "execution_count": 2,
   "id": "36c62212-aaf8-4452-8589-f68e53c99d1d",
   "metadata": {},
   "outputs": [],
   "source": [
    "# creating a function\n",
    "def details_bill():\n",
    "    print(\"due date : 14/08/2025\")\n",
    "    print(\"after due date fine : rs 3000\")\n",
    "    print(\"pay your bill soon\")"
   ]
  },
  {
   "cell_type": "code",
   "execution_count": 3,
   "id": "6e186811-1a0c-4716-afbd-266a470c5f28",
   "metadata": {},
   "outputs": [
    {
     "name": "stdin",
     "output_type": "stream",
     "text": [
      "enter your name :  Abdul Rehman\n",
      "enter the units consumed :  200\n"
     ]
    },
    {
     "name": "stdout",
     "output_type": "stream",
     "text": [
      "total bill :  2000\n",
      "due date : 14/08/2025\n",
      "after due date fine : rs 3000\n",
      "pay your bill soon\n"
     ]
    },
    {
     "name": "stdin",
     "output_type": "stream",
     "text": [
      "enter your name :  Ahmed Faizan\n",
      "enter the units consumed :  500\n"
     ]
    },
    {
     "name": "stdout",
     "output_type": "stream",
     "text": [
      "total bill :  5000\n",
      "due date : 14/08/2025\n",
      "after due date fine : rs 3000\n",
      "pay your bill soon\n"
     ]
    },
    {
     "name": "stdin",
     "output_type": "stream",
     "text": [
      "enter your name :  Zoha Khurram\n",
      "enter the units consumed :  100\n"
     ]
    },
    {
     "name": "stdout",
     "output_type": "stream",
     "text": [
      "total bill :  1000\n",
      "due date : 14/08/2025\n",
      "after due date fine : rs 3000\n",
      "pay your bill soon\n"
     ]
    }
   ],
   "source": [
    "for i in range(3):\n",
    "    a = input(\"enter your name : \")\n",
    "    b = int(input(\"enter the units consumed : \"))\n",
    "    bill = b * 10;\n",
    "    print(\"total bill : \",bill)\n",
    "    details_bill()"
   ]
  },
  {
   "cell_type": "markdown",
   "id": "fac45ddf-7b92-4dd7-a6c4-0ae756aaa32f",
   "metadata": {},
   "source": [
    "#### passing arguments to function"
   ]
  },
  {
   "cell_type": "markdown",
   "id": "4b92eb22-8f48-45c3-8c12-2d09fd870bad",
   "metadata": {},
   "source": [
    "##### Create a function to check even/odd"
   ]
  },
  {
   "cell_type": "code",
   "execution_count": 12,
   "id": "4c3f172b-e0fd-45a1-996c-c40d879878e2",
   "metadata": {},
   "outputs": [],
   "source": [
    "# created function\n",
    "def check_even_odd(number): # argument ---> number\n",
    "    if number%2==0:\n",
    "        print(\"even number\")\n",
    "    else:\n",
    "        print(\"odd number\")        "
   ]
  },
  {
   "cell_type": "code",
   "execution_count": 11,
   "id": "e1548299-ba7b-4cc0-a1cc-65d87947ffe2",
   "metadata": {},
   "outputs": [
    {
     "name": "stdin",
     "output_type": "stream",
     "text": [
      "enter the number :  13\n"
     ]
    },
    {
     "name": "stdout",
     "output_type": "stream",
     "text": [
      "odd number\n"
     ]
    }
   ],
   "source": [
    "# inputted number\n",
    "num = int(input(\"enter the number : \"))\n",
    "# called function\n",
    "check_even_odd(num)"
   ]
  },
  {
   "cell_type": "markdown",
   "id": "9edcc402-95b6-4ca1-ae6d-4545e715d2c4",
   "metadata": {},
   "source": [
    "##### we can pass more than 1 arguments too!"
   ]
  },
  {
   "cell_type": "markdown",
   "id": "8bfa1e19-c35b-4083-917e-eeb036fc8cd7",
   "metadata": {},
   "source": [
    "##### 2 Arguments"
   ]
  },
  {
   "cell_type": "code",
   "execution_count": 20,
   "id": "8ca6645d-f5dd-4ae0-a2ed-5ebf57c26be4",
   "metadata": {},
   "outputs": [],
   "source": [
    "# 2 arguments\n",
    "# create function\n",
    "def my_name(fname,lname):\n",
    "    # print(fname,lname,sep=' ')\n",
    "    print(fname + ' ' + lname)"
   ]
  },
  {
   "cell_type": "code",
   "execution_count": 21,
   "id": "c93189b7-a629-4be3-be71-dfc49710a3ca",
   "metadata": {},
   "outputs": [
    {
     "name": "stdin",
     "output_type": "stream",
     "text": [
      "enter first name :  Abdul\n",
      "enter last name :  Rehman\n"
     ]
    },
    {
     "name": "stdout",
     "output_type": "stream",
     "text": [
      "Abdul Rehman\n"
     ]
    }
   ],
   "source": [
    "# inputted first and last name\n",
    "fname = input(\"enter first name : \")\n",
    "lname = input(\"enter last name : \")\n",
    "# called function\n",
    "my_name(fname,lname)"
   ]
  },
  {
   "cell_type": "markdown",
   "id": "3203e9ad-d01d-45aa-91c5-1c929ae15b4f",
   "metadata": {},
   "source": [
    "### Practice Question : process exam scores"
   ]
  },
  {
   "cell_type": "code",
   "execution_count": 31,
   "id": "61767d45-c66a-47d3-8be2-fc68cc988354",
   "metadata": {},
   "outputs": [],
   "source": [
    "# created function\n",
    "def process_exam_scores(exam_scores):\n",
    "    \n",
    "    # calculated present students count\n",
    "    num_students = len(exam_scores)\n",
    "    print(\"present students : \",num_students)\n",
    "    \n",
    "    # calculated average marks\n",
    "    average_score = sum(exam_scores)/len(exam_scores)\n",
    "    print(\"average marks : \",average_score)\n",
    "\n",
    "    # calculated highest marks\n",
    "    highest_score = max(exam_scores)\n",
    "    print(\"highest marks : \",highest_score)\n",
    "\n",
    "    # calculated minimum marks\n",
    "    minimum_score = min(exam_scores)\n",
    "    print(\"lowest marks : \",minimum_score)\n",
    "    \n",
    "    # calculated passed students\n",
    "    passed = 0\n",
    "    for i in exam_scores:\n",
    "        if i>=80:\n",
    "            passed = passed + 1\n",
    "    print(\"total students passed : \",passed)\n",
    "    \n",
    "    # calculated failed students\n",
    "    failed = len(exam_scores)-passed\n",
    "    print(\"total students failed : \",failed)"
   ]
  },
  {
   "cell_type": "code",
   "execution_count": 32,
   "id": "a7c6f5f3-c3d9-43ce-93fd-201a5e3d485d",
   "metadata": {},
   "outputs": [
    {
     "name": "stdout",
     "output_type": "stream",
     "text": [
      "present students :  10\n",
      "average marks :  86.7\n",
      "highest marks :  95\n",
      "lowest marks :  78\n",
      "total students passed :  8\n",
      "total students failed :  2\n"
     ]
    }
   ],
   "source": [
    "# called function\n",
    "exam_score = [85, 92, 78, 90, 88, 95, 82, 79, 87, 91]\n",
    "process_exam_scores(exam_score)"
   ]
  }
 ],
 "metadata": {
  "kernelspec": {
   "display_name": "Python [conda env:base] *",
   "language": "python",
   "name": "conda-base-py"
  },
  "language_info": {
   "codemirror_mode": {
    "name": "ipython",
    "version": 3
   },
   "file_extension": ".py",
   "mimetype": "text/x-python",
   "name": "python",
   "nbconvert_exporter": "python",
   "pygments_lexer": "ipython3",
   "version": "3.12.7"
  }
 },
 "nbformat": 4,
 "nbformat_minor": 5
}
