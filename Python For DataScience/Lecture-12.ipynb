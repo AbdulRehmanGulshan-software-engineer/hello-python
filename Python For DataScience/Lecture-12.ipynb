{
 "cells": [
  {
   "cell_type": "markdown",
   "id": "a31caf4f-464f-437f-bb78-3ffeb9b43cd6",
   "metadata": {},
   "source": [
    "### Strings In Python"
   ]
  },
  {
   "cell_type": "code",
   "execution_count": 6,
   "id": "937b28d8-c6e3-437a-b748-c414969fb15b",
   "metadata": {},
   "outputs": [
    {
     "name": "stdout",
     "output_type": "stream",
     "text": [
      "hello\n",
      "<class 'str'>\n",
      "hello\n",
      "<class 'str'>\n"
     ]
    }
   ],
   "source": [
    "# creating strings in python\n",
    "my_string = 'hello' # method 01\n",
    "print(my_string)\n",
    "print(type(my_string))\n",
    "my_string = \"hello\" # method 02\n",
    "print(my_string)\n",
    "print(type(my_string))"
   ]
  },
  {
   "cell_type": "code",
   "execution_count": 5,
   "id": "7afaadfa-9c80-478f-9d57-c4248e3f5401",
   "metadata": {},
   "outputs": [
    {
     "name": "stdout",
     "output_type": "stream",
     "text": [
      "I am Gulshan \n",
      "This is my first class\n"
     ]
    }
   ],
   "source": [
    "str = \"I am Gulshan \\nThis is my first class\"\n",
    "print(str)"
   ]
  },
  {
   "cell_type": "code",
   "execution_count": 9,
   "id": "359f926e-6d24-4655-a7c1-ee6cc07f2c43",
   "metadata": {},
   "outputs": [
    {
     "name": "stdout",
     "output_type": "stream",
     "text": [
      "Every time we browse the internet,\n",
      "shop online, or use social media, we generate data.\n",
      "But dealing with this enormous amount of raw data is not easy.\n",
      "It is like trying to navigate a huge library where all the books are scattered randomly.\n",
      "Data science is about making sense of the vast amounts of data generated around us.\n",
      "Data science helps business uncovering patterns, trends, and insights hidden within numbers, text, images, and more.\n",
      "It combines the power of mathematics, programming, and domain expertise to answer questions, solve problems, and\n",
      "even make prediction about the future trend or requirements.\n",
      "<class 'str'>\n"
     ]
    }
   ],
   "source": [
    "# multiline string 🔻 lines will automatically split as i do in program ... no need of \\n\n",
    "my_string = '''Every time we browse the internet,\n",
    "shop online, or use social media, we generate data.\n",
    "But dealing with this enormous amount of raw data is not easy.\n",
    "It is like trying to navigate a huge library where all the books are scattered randomly.\n",
    "Data science is about making sense of the vast amounts of data generated around us.\n",
    "Data science helps business uncovering patterns, trends, and insights hidden within numbers, text, images, and more.\n",
    "It combines the power of mathematics, programming, and domain expertise to answer questions, solve problems, and\n",
    "even make prediction about the future trend or requirements.''' # method 03\n",
    "print(my_string)\n",
    "print(type(my_string))"
   ]
  },
  {
   "cell_type": "markdown",
   "id": "8caa3c4e-a9d9-4f1f-a723-8486aca12c17",
   "metadata": {},
   "source": [
    "#### Indexing Of Strings"
   ]
  },
  {
   "cell_type": "code",
   "execution_count": 13,
   "id": "af1ff7d3-1e2a-4a59-a2f2-a84df292b701",
   "metadata": {},
   "outputs": [
    {
     "name": "stdout",
     "output_type": "stream",
     "text": [
      "h\n",
      "e\n",
      "l\n",
      "l\n",
      "o\n",
      " \n",
      "s\n",
      "r\n",
      "e\n",
      "n\n",
      "r\n"
     ]
    }
   ],
   "source": [
    "# created a string\n",
    "a = \"hello dear learners\"\n",
    "# posiive indexing ⬇️\n",
    "print(a[0]) # will print h\n",
    "print(a[1]) # will print e\n",
    "print(a[2])\n",
    "print(a[3])\n",
    "print(a[4])\n",
    "print(a[5])\n",
    "\n",
    "# negative indexing ⬇️\n",
    "print(a[-1]) # will print s from the last of string\n",
    "print(a[-2]) # will print second last r\n",
    "print(a[-3])\n",
    "print(a[-4])\n",
    "print(a[-5])"
   ]
  },
  {
   "cell_type": "code",
   "execution_count": 14,
   "id": "028f7beb-9778-4c8b-a4ec-705db7b174d8",
   "metadata": {},
   "outputs": [
    {
     "name": "stdout",
     "output_type": "stream",
     "text": [
      "d l e i\n"
     ]
    }
   ],
   "source": [
    "b = \"data science is the growing field\"\n",
    "print(b[-1],b[-2],b[-3],b[-4]) # can be print in this way"
   ]
  },
  {
   "cell_type": "markdown",
   "id": "647da809-133f-4c3c-8a42-abea0b14630f",
   "metadata": {},
   "source": [
    "#### Slicing In Strings"
   ]
  },
  {
   "cell_type": "code",
   "execution_count": 18,
   "id": "4e9f2f67-5c81-45a3-a0e6-8e692c2a4e33",
   "metadata": {},
   "outputs": [
    {
     "name": "stdout",
     "output_type": "stream",
     "text": [
      "i am\n"
     ]
    }
   ],
   "source": [
    "a = \"i am learning datascience\"\n",
    "print(a[0:4]) # always give (i to n+1)"
   ]
  },
  {
   "cell_type": "code",
   "execution_count": 20,
   "id": "a6b37c58-8911-40b9-8e1d-7ca5078bcf5d",
   "metadata": {},
   "outputs": [
    {
     "name": "stdout",
     "output_type": "stream",
     "text": [
      "i am gulshan\n"
     ]
    }
   ],
   "source": [
    "b = \"i am gulshan\"\n",
    "print(b[:]) # compiler will analyze automatically (start to end)"
   ]
  },
  {
   "cell_type": "code",
   "execution_count": 23,
   "id": "cfe1d2df-5cd5-41d4-8b2d-14197d111e6f",
   "metadata": {},
   "outputs": [
    {
     "name": "stdout",
     "output_type": "stream",
     "text": [
      "ia usa\n"
     ]
    }
   ],
   "source": [
    "# creating jump using python  [start:end+1:jump+1]\n",
    "d = \"i am gulshan\"\n",
    "print(b[::2])"
   ]
  },
  {
   "cell_type": "code",
   "execution_count": 35,
   "id": "0182b228-e6fe-44c5-9ac4-6510390bbd7a",
   "metadata": {},
   "outputs": [
    {
     "name": "stdout",
     "output_type": "stream",
     "text": [
      "ludba ma i olleh\n"
     ]
    }
   ],
   "source": [
    "# reverse the string\n",
    "e = \"hello i am abdul\"\n",
    "print(e[::-1])"
   ]
  },
  {
   "cell_type": "code",
   "execution_count": 38,
   "id": "15e33a2b-90bb-437e-a962-65bffdde8ed7",
   "metadata": {},
   "outputs": [
    {
     "name": "stdout",
     "output_type": "stream",
     "text": [
      "ia bu\n"
     ]
    }
   ],
   "source": [
    "a = \"hello i am abdul\"\n",
    "print(a[-10:-1:2])"
   ]
  },
  {
   "cell_type": "markdown",
   "id": "e4ce1ad6-244f-4a2f-97a7-a3ae05d7a760",
   "metadata": {},
   "source": [
    "#### Date String Format YYYY-MM-DD"
   ]
  },
  {
   "cell_type": "code",
   "execution_count": 45,
   "id": "3fee0672-93ba-4d34-a403-0c5fa945b396",
   "metadata": {},
   "outputs": [
    {
     "name": "stdin",
     "output_type": "stream",
     "text": [
      "enter date YYYY-MM-DD :  2024-05-28\n"
     ]
    },
    {
     "name": "stdout",
     "output_type": "stream",
     "text": [
      "(2024 ,5 ,28)\n"
     ]
    }
   ],
   "source": [
    "date = input(\"enter date YYYY-MM-DD : \")\n",
    "print(f\"({int(date[0:4])} ,{int(date[5:7])} ,{int(date[8:])})\")\n"
   ]
  },
  {
   "cell_type": "code",
   "execution_count": 46,
   "id": "b1d6e39f-ca76-43d7-8a52-5fee373d8f1f",
   "metadata": {},
   "outputs": [
    {
     "name": "stdout",
     "output_type": "stream",
     "text": [
      "Artifi\n"
     ]
    }
   ],
   "source": [
    "s = \"Artificial\"\n",
    "print(s[:-4])"
   ]
  }
 ],
 "metadata": {
  "kernelspec": {
   "display_name": "Python [conda env:base] *",
   "language": "python",
   "name": "conda-base-py"
  },
  "language_info": {
   "codemirror_mode": {
    "name": "ipython",
    "version": 3
   },
   "file_extension": ".py",
   "mimetype": "text/x-python",
   "name": "python",
   "nbconvert_exporter": "python",
   "pygments_lexer": "ipython3",
   "version": "3.12.7"
  }
 },
 "nbformat": 4,
 "nbformat_minor": 5
}
