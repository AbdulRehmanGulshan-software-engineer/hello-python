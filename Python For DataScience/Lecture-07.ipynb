{
 "cells": [
  {
   "cell_type": "markdown",
   "id": "9b33b851-0831-4b23-b8a8-10d7f5541a0d",
   "metadata": {},
   "source": [
    "## Control Flow Statements"
   ]
  },
  {
   "cell_type": "markdown",
   "id": "012ddbc9-4fdc-41f6-9029-3d5cf891520e",
   "metadata": {},
   "source": [
    "### 1 : Conditional Statements In Python"
   ]
  },
  {
   "cell_type": "markdown",
   "id": "20dfca33-eb33-4d38-9f48-1e9e8a6b2da0",
   "metadata": {},
   "source": [
    "#### 🔻If statement"
   ]
  },
  {
   "cell_type": "code",
   "execution_count": 9,
   "id": "bcf38109-12e0-42c8-9d4e-68d7ee8b8237",
   "metadata": {},
   "outputs": [
    {
     "name": "stdout",
     "output_type": "stream",
     "text": [
      "20 is greater than 10\n"
     ]
    }
   ],
   "source": [
    "i = 20\n",
    "if i>10: # see if condition syntax here, colon is used\n",
    "    print(\"20 is greater than 10\")"
   ]
  },
  {
   "cell_type": "markdown",
   "id": "a8c23742-6f37-4951-a8a8-f931fb798deb",
   "metadata": {},
   "source": [
    "##### Question : Temperature Converter"
   ]
  },
  {
   "cell_type": "code",
   "execution_count": 5,
   "id": "5fa62557-c699-44d6-892b-8c2136a3bae5",
   "metadata": {},
   "outputs": [
    {
     "name": "stdin",
     "output_type": "stream",
     "text": [
      "enter the temperature 12\n"
     ]
    },
    {
     "name": "stdout",
     "output_type": "stream",
     "text": [
      "temperature is not convinient\n"
     ]
    }
   ],
   "source": [
    "# user input\n",
    "temp = float(input(\"enter the temperature\"))\n",
    "\n",
    "# conditions\n",
    "if temp<15:\n",
    "    print(\"temperature is not convinient\")\n",
    "    \n",
    "if 24<temp<28:\n",
    "    print(\"temperature is convenient\") "
   ]
  },
  {
   "cell_type": "markdown",
   "id": "1afc9ca3-f099-4ea0-b5ba-04abdfe62ba9",
   "metadata": {},
   "source": [
    "#### 🔻 if else statement"
   ]
  },
  {
   "cell_type": "markdown",
   "id": "848314c9-a38a-48e0-a57e-72a6fa1e187e",
   "metadata": {},
   "source": [
    "##### Write a program to check whether a person is eligible for voting or not"
   ]
  },
  {
   "cell_type": "code",
   "execution_count": 7,
   "id": "a8147f3e-957e-4ba6-8182-e673edbfc9a3",
   "metadata": {},
   "outputs": [
    {
     "name": "stdin",
     "output_type": "stream",
     "text": [
      "enter your age 26\n"
     ]
    },
    {
     "name": "stdout",
     "output_type": "stream",
     "text": [
      "you are eligible to vote\n"
     ]
    }
   ],
   "source": [
    "# input age\n",
    "age = int(input(\"enter your age\"))\n",
    "# check conditions\n",
    "if age>18:\n",
    "    print(\"you are eligible to vote\")\n",
    "else:\n",
    "    print(\"you are not eligible to vote\")"
   ]
  },
  {
   "cell_type": "markdown",
   "id": "07bda4ec-10e6-49d3-a90e-91f644ce0c87",
   "metadata": {},
   "source": [
    "##### Question : Manage Employee Salaries"
   ]
  },
  {
   "cell_type": "code",
   "execution_count": 5,
   "id": "42c106bc-d816-4a9b-8924-c8dd157793b2",
   "metadata": {},
   "outputs": [
    {
     "name": "stdin",
     "output_type": "stream",
     "text": [
      "enter your base salary 50000\n",
      "enter your years of service 3\n"
     ]
    },
    {
     "name": "stdout",
     "output_type": "stream",
     "text": [
      "you will get net salary: 44000.0\n"
     ]
    }
   ],
   "source": [
    "# input information\n",
    "base_salary = float(input(\"enter your base salary\"))\n",
    "service_years = float(input(\"enter your years of service\"))\n",
    "# calculate net salary\n",
    "if service_years>5:\n",
    "    total_salary = base_salary*(1+0.08-0.12)\n",
    "    print(\"you will get net salary:\",total_salary)\n",
    "else:\n",
    "    total_salary = base_salary*(1-0.12)\n",
    "    print(\"you will get net salary:\",total_salary)"
   ]
  },
  {
   "cell_type": "markdown",
   "id": "674196fe-c7db-473f-9177-4405374b4799",
   "metadata": {},
   "source": [
    "#### 🔻 if elif else statements"
   ]
  },
  {
   "cell_type": "markdown",
   "id": "8f9cc76e-e0cf-49a8-ac26-5257bc8bf282",
   "metadata": {},
   "source": [
    "##### question : Display famous monument of city"
   ]
  },
  {
   "cell_type": "code",
   "execution_count": 8,
   "id": "c58da7e7-3eec-4748-9c59-dae363aba6e4",
   "metadata": {},
   "outputs": [
    {
     "name": "stdin",
     "output_type": "stream",
     "text": [
      "enter the city: sialkot\n"
     ]
    },
    {
     "name": "stdout",
     "output_type": "stream",
     "text": [
      "my moon is here\n"
     ]
    }
   ],
   "source": [
    "# input city\n",
    "city = input(\"enter the city:\") # string type input\n",
    "# check conditions\n",
    "if city==\"lahore\":\n",
    "    print(\"anarkali bazaar\")\n",
    "elif city==\"gujranwala\":\n",
    "    print(\"chan da kila\")\n",
    "elif city==\"sialkot\":\n",
    "    print(\"my moon is here\")\n",
    "elif city==\"islamabad\":\n",
    "    print(\"faisal mosque\")\n",
    "else:\n",
    "    print(\"enter another city\")"
   ]
  },
  {
   "cell_type": "markdown",
   "id": "12df39d4-4a9f-4ad9-ad82-2d32c3955730",
   "metadata": {},
   "source": [
    "#### if elif else statement"
   ]
  },
  {
   "cell_type": "code",
   "execution_count": null,
   "id": "302482eb-9812-45a0-8d58-8143df243281",
   "metadata": {},
   "outputs": [],
   "source": []
  },
  {
   "cell_type": "code",
   "execution_count": null,
   "id": "ec8cadc6-59e0-40d3-bd5e-7887fad2bd32",
   "metadata": {},
   "outputs": [],
   "source": []
  },
  {
   "cell_type": "code",
   "execution_count": null,
   "id": "2a1a3d04-e299-4057-b233-b768ea8f4ce5",
   "metadata": {},
   "outputs": [],
   "source": []
  },
  {
   "cell_type": "code",
   "execution_count": null,
   "id": "33c44474-7081-4090-9add-5f98a82eb952",
   "metadata": {},
   "outputs": [],
   "source": []
  }
 ],
 "metadata": {
  "kernelspec": {
   "display_name": "Python [conda env:base] *",
   "language": "python",
   "name": "conda-base-py"
  },
  "language_info": {
   "codemirror_mode": {
    "name": "ipython",
    "version": 3
   },
   "file_extension": ".py",
   "mimetype": "text/x-python",
   "name": "python",
   "nbconvert_exporter": "python",
   "pygments_lexer": "ipython3",
   "version": "3.12.7"
  }
 },
 "nbformat": 4,
 "nbformat_minor": 5
}
