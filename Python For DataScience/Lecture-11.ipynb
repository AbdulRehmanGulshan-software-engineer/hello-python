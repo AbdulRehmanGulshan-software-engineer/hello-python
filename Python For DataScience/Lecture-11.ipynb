{
 "cells": [
  {
   "cell_type": "markdown",
   "id": "3ca93ac1-a9fe-4c73-b7dc-f4124f026257",
   "metadata": {},
   "source": [
    "### Practice Questions Lec 7 to 10"
   ]
  },
  {
   "cell_type": "markdown",
   "id": "dcc2a7da-4574-4299-9ace-28fdd282a7df",
   "metadata": {},
   "source": [
    "#### Question 01 : grade distribution"
   ]
  },
  {
   "cell_type": "code",
   "execution_count": 4,
   "id": "16ab8b79-7c10-4692-b87f-ee8a9848d3d8",
   "metadata": {},
   "outputs": [],
   "source": [
    "# created function\n",
    "def grade_distribution(grades):\n",
    "    A=B=C=D=F=0\n",
    "    for i in grades:\n",
    "        if i>=90 and i<=100:\n",
    "            A = A + 1\n",
    "        elif i>=80 and i<=89:\n",
    "            B = B + 1\n",
    "        elif i>=70 and i<=79:\n",
    "            C = C + 1\n",
    "        elif i>=60 and i<=69:\n",
    "            D = D + 1\n",
    "        else:\n",
    "            F = F + 1\n",
    "    print(\"A grades : \",A)\n",
    "    print(\"B grades : \",B)\n",
    "    print(\"C grades : \",C)\n",
    "    print(\"D grades : \",D)\n",
    "    print(\"F grades : \",F)"
   ]
  },
  {
   "cell_type": "code",
   "execution_count": 7,
   "id": "f2995bac-c674-4de0-bb0a-0021e2115f33",
   "metadata": {},
   "outputs": [
    {
     "name": "stdout",
     "output_type": "stream",
     "text": [
      "A grades :  2\n",
      "B grades :  3\n",
      "C grades :  2\n",
      "D grades :  2\n",
      "F grades :  5\n"
     ]
    }
   ],
   "source": [
    "# inputted grades\n",
    "grades = [89,92,88,74,63,96,49,63,79,85,59,34,23,54]\n",
    "# called function\n",
    "grade_distribution(grades)"
   ]
  },
  {
   "cell_type": "markdown",
   "id": "018ef42e-7010-4c6a-b98a-2578a5f482f6",
   "metadata": {},
   "source": [
    "#### Question 02 : Number Guessing Game"
   ]
  },
  {
   "cell_type": "code",
   "execution_count": 14,
   "id": "88cb6b68-ffc3-4b77-b1a2-62afc50a4081",
   "metadata": {},
   "outputs": [],
   "source": [
    "# random number generator\n",
    "import random\n",
    "# created user defined function\n",
    "def number_guess_game():\n",
    "    secret_number = random.randint(1,100)\n",
    "    print(secret_number)\n",
    "    print(\"welcome to the number guessing game\")\n",
    "    attempts = 0\n",
    "    guess = None\n",
    "    while guess != secret_number:\n",
    "        attempts = attempts + 1;\n",
    "        guess = int(input(\"enter number (1-100) : \"))\n",
    "        if guess==secret_number:\n",
    "            print(\"you win!\")\n",
    "            print(\"total attempts : \",attempts)\n",
    "        elif guess<secret_number:\n",
    "            print(\"Smaller,Try Again\")\n",
    "        else:\n",
    "            print(\"Larger,Try Again\")"
   ]
  },
  {
   "cell_type": "code",
   "execution_count": 19,
   "id": "63250752-8cd8-4348-ab29-4458593fdbbe",
   "metadata": {},
   "outputs": [
    {
     "name": "stdout",
     "output_type": "stream",
     "text": [
      "2\n",
      "welcome to the number guessing game\n"
     ]
    },
    {
     "name": "stdin",
     "output_type": "stream",
     "text": [
      "enter number (1-100) :  3\n"
     ]
    },
    {
     "name": "stdout",
     "output_type": "stream",
     "text": [
      "Larger,Try Again\n"
     ]
    },
    {
     "name": "stdin",
     "output_type": "stream",
     "text": [
      "enter number (1-100) :  1\n"
     ]
    },
    {
     "name": "stdout",
     "output_type": "stream",
     "text": [
      "Smaller,Try Again\n"
     ]
    },
    {
     "name": "stdin",
     "output_type": "stream",
     "text": [
      "enter number (1-100) :  2\n"
     ]
    },
    {
     "name": "stdout",
     "output_type": "stream",
     "text": [
      "you win!\n",
      "total attempts :  3\n"
     ]
    },
    {
     "name": "stdin",
     "output_type": "stream",
     "text": [
      "enter y to play_again , n to stop_game :  n\n"
     ]
    }
   ],
   "source": [
    "demand = \"y\"\n",
    "while(demand != \"n\"):\n",
    "    number_guess_game()\n",
    "    demand = input(\"enter y to play_again , n to stop_game : \")"
   ]
  },
  {
   "cell_type": "markdown",
   "id": "efd2cb76-2a1f-4e9f-bd67-b65a1eeb4a65",
   "metadata": {},
   "source": [
    "#### Question 03 : Sum Of Squares"
   ]
  },
  {
   "cell_type": "code",
   "execution_count": 27,
   "id": "2297f26f-01ea-41de-a31e-ac8ca7b6b49f",
   "metadata": {},
   "outputs": [],
   "source": [
    "# created function\n",
    "def sum_of_squares(number):\n",
    "    sum = 0\n",
    "    for i in range(1,number+1):\n",
    "        sum = sum + i**2\n",
    "    print(\"sum of squares = \",sum)"
   ]
  },
  {
   "cell_type": "code",
   "execution_count": 28,
   "id": "54aba293-89be-47ef-97c8-9cabeaacd052",
   "metadata": {},
   "outputs": [
    {
     "name": "stdin",
     "output_type": "stream",
     "text": [
      "enter positive number :  4\n"
     ]
    },
    {
     "name": "stdout",
     "output_type": "stream",
     "text": [
      "sum of squares =  30\n"
     ]
    }
   ],
   "source": [
    "# inputted number\n",
    "number = int(input(\"enter positive number : \"))\n",
    "# called function\n",
    "sum_of_squares(number)"
   ]
  }
 ],
 "metadata": {
  "kernelspec": {
   "display_name": "Python [conda env:base] *",
   "language": "python",
   "name": "conda-base-py"
  },
  "language_info": {
   "codemirror_mode": {
    "name": "ipython",
    "version": 3
   },
   "file_extension": ".py",
   "mimetype": "text/x-python",
   "name": "python",
   "nbconvert_exporter": "python",
   "pygments_lexer": "ipython3",
   "version": "3.12.7"
  }
 },
 "nbformat": 4,
 "nbformat_minor": 5
}
