{
 "cells": [
  {
   "cell_type": "markdown",
   "id": "6e5ef53b-733a-49af-a8bb-71960116f1f4",
   "metadata": {},
   "source": [
    "### Lecture 05"
   ]
  },
  {
   "cell_type": "markdown",
   "id": "60248a26-9e09-42b1-8941-9e304c33a0b9",
   "metadata": {},
   "source": [
    "#### Built In Functions Part 2"
   ]
  },
  {
   "cell_type": "markdown",
   "id": "5e7c8950-8368-4407-877d-8b183c5034eb",
   "metadata": {},
   "source": [
    "##### bin function : use to convert int to binary representation"
   ]
  },
  {
   "cell_type": "code",
   "execution_count": 3,
   "id": "c2d22fae-f795-4a92-806d-6db3774e497b",
   "metadata": {},
   "outputs": [
    {
     "name": "stdout",
     "output_type": "stream",
     "text": [
      "0b1010\n"
     ]
    }
   ],
   "source": [
    "binary_repr = bin(10)\n",
    "print(binary_repr)"
   ]
  },
  {
   "cell_type": "code",
   "execution_count": 5,
   "id": "529f1a0a-5204-4c5f-9f49-f038e9841223",
   "metadata": {},
   "outputs": [
    {
     "name": "stdout",
     "output_type": "stream",
     "text": [
      "0b1010011011101110101100010010001000110100110\n"
     ]
    }
   ],
   "source": [
    "# we can find binary of max to max number . lets check\n",
    "bin_rep = bin(5735753257382)\n",
    "print(bin_rep)"
   ]
  },
  {
   "cell_type": "code",
   "execution_count": 7,
   "id": "c93c9d90-b24e-4ca7-af6c-1ea5ce495667",
   "metadata": {},
   "outputs": [
    {
     "ename": "TypeError",
     "evalue": "'float' object cannot be interpreted as an integer",
     "output_type": "error",
     "traceback": [
      "\u001b[1;31m---------------------------------------------------------------------------\u001b[0m",
      "\u001b[1;31mTypeError\u001b[0m                                 Traceback (most recent call last)",
      "Cell \u001b[1;32mIn[7], line 1\u001b[0m\n\u001b[1;32m----> 1\u001b[0m z \u001b[38;5;241m=\u001b[39m \u001b[38;5;28mbin\u001b[39m(\u001b[38;5;241m43.453\u001b[39m) \u001b[38;5;66;03m# lets check for float\u001b[39;00m\n\u001b[0;32m      2\u001b[0m \u001b[38;5;28mprint\u001b[39m(z)\n",
      "\u001b[1;31mTypeError\u001b[0m: 'float' object cannot be interpreted as an integer"
     ]
    }
   ],
   "source": [
    "z = bin(43.453) # lets check for float\n",
    "print(z)"
   ]
  },
  {
   "cell_type": "markdown",
   "id": "51ab3383-3aaa-4207-9d1b-788b21d06757",
   "metadata": {},
   "source": [
    "##### sum function"
   ]
  },
  {
   "cell_type": "code",
   "execution_count": 10,
   "id": "c0541c35-5707-442c-861c-fc68d635bd77",
   "metadata": {},
   "outputs": [
    {
     "name": "stdout",
     "output_type": "stream",
     "text": [
      "134044\n"
     ]
    }
   ],
   "source": [
    "my_list = [2,4,6,2,9,4,55,3,7,22,4,8,3,6,0,2,4,565,34,24,454,54,98,132674] # jitne marzi num hon\n",
    "a = sum(my_list)\n",
    "print(a)"
   ]
  },
  {
   "cell_type": "code",
   "execution_count": 13,
   "id": "9839c290-b5e0-4b20-9482-28b7d091ecb8",
   "metadata": {},
   "outputs": [
    {
     "ename": "TypeError",
     "evalue": "unsupported operand type(s) for +: 'int' and 'str'",
     "output_type": "error",
     "traceback": [
      "\u001b[1;31m---------------------------------------------------------------------------\u001b[0m",
      "\u001b[1;31mTypeError\u001b[0m                                 Traceback (most recent call last)",
      "Cell \u001b[1;32mIn[13], line 3\u001b[0m\n\u001b[0;32m      1\u001b[0m \u001b[38;5;66;03m# lets check for string\u001b[39;00m\n\u001b[0;32m      2\u001b[0m \u001b[38;5;28mlist\u001b[39m \u001b[38;5;241m=\u001b[39m [\u001b[38;5;124m\"\u001b[39m\u001b[38;5;124mjohny\u001b[39m\u001b[38;5;124m\"\u001b[39m,\u001b[38;5;124m\"\u001b[39m\u001b[38;5;124mgulshan\u001b[39m\u001b[38;5;124m\"\u001b[39m,\u001b[38;5;124m\"\u001b[39m\u001b[38;5;124msaadi\u001b[39m\u001b[38;5;124m\"\u001b[39m,\u001b[38;5;124m\"\u001b[39m\u001b[38;5;124mshahg\u001b[39m\u001b[38;5;124m\"\u001b[39m,\u001b[38;5;124m\"\u001b[39m\u001b[38;5;124msaikhu\u001b[39m\u001b[38;5;124m\"\u001b[39m,\u001b[38;5;124m\"\u001b[39m\u001b[38;5;124mshani\u001b[39m\u001b[38;5;124m\"\u001b[39m,\u001b[38;5;124m\"\u001b[39m\u001b[38;5;124mazeem\u001b[39m\u001b[38;5;124m\"\u001b[39m,\u001b[38;5;124m\"\u001b[39m\u001b[38;5;124mmalik\u001b[39m\u001b[38;5;124m\"\u001b[39m,\u001b[38;5;124m\"\u001b[39m\u001b[38;5;124mfaizan\u001b[39m\u001b[38;5;124m\"\u001b[39m]\n\u001b[1;32m----> 3\u001b[0m b \u001b[38;5;241m=\u001b[39m \u001b[38;5;28msum\u001b[39m(\u001b[38;5;28mlist\u001b[39m) \u001b[38;5;66;03m# calling sum function\u001b[39;00m\n\u001b[0;32m      4\u001b[0m \u001b[38;5;28mprint\u001b[39m(b)\n",
      "\u001b[1;31mTypeError\u001b[0m: unsupported operand type(s) for +: 'int' and 'str'"
     ]
    }
   ],
   "source": [
    "# lets check for string\n",
    "list = [\"johny\",\"gulshan\",\"saadi\",\"shahg\",\"saikhu\",\"shani\",\"azeem\",\"malik\",\"faizan\"]\n",
    "b = sum(list) # calling sum function\n",
    "print(b)"
   ]
  },
  {
   "cell_type": "code",
   "execution_count": 17,
   "id": "1dfbfa2b-a066-4d23-8676-d9e216dee6a1",
   "metadata": {},
   "outputs": [
    {
     "name": "stdout",
     "output_type": "stream",
     "text": [
      "25\n"
     ]
    }
   ],
   "source": [
    "a = [1,2,3,4,5]\n",
    "# i want +10 in starting\n",
    "starting_value = 10\n",
    "total = sum(a,starting_value)\n",
    "print(total)"
   ]
  },
  {
   "cell_type": "code",
   "execution_count": 19,
   "id": "0c5e841a-0c93-4536-9a5e-1516e4b10064",
   "metadata": {},
   "outputs": [
    {
     "name": "stdout",
     "output_type": "stream",
     "text": [
      "5\n"
     ]
    }
   ],
   "source": [
    "a = [1,2,3,4,5]\n",
    "# i want -10 in starting\n",
    "starting_value = -10\n",
    "total = sum(a,starting_value)\n",
    "print(total)"
   ]
  },
  {
   "cell_type": "code",
   "execution_count": 20,
   "id": "a51b4818-4253-4638-8429-3b57bb7d3823",
   "metadata": {},
   "outputs": [
    {
     "name": "stdout",
     "output_type": "stream",
     "text": [
      "25.560000000000002\n"
     ]
    }
   ],
   "source": [
    "a = [1,2,3,4,5]\n",
    "# lets try to add floating number in starting\n",
    "starting_value = 10.56\n",
    "total = sum(a,starting_value)\n",
    "print(total)"
   ]
  },
  {
   "cell_type": "markdown",
   "id": "9542ab70-4341-49bd-98af-1d98a393d0ce",
   "metadata": {},
   "source": [
    "##### eval function"
   ]
  },
  {
   "cell_type": "code",
   "execution_count": 22,
   "id": "a05e1af3-403b-4b65-8d49-4f9e52c6ff29",
   "metadata": {},
   "outputs": [
    {
     "name": "stdout",
     "output_type": "stream",
     "text": [
      "20\n"
     ]
    }
   ],
   "source": [
    "# evaluates a python expression stored in a string\n",
    "x = 10\n",
    "y = 5\n",
    "expression = \"x+y*2\"\n",
    "print(eval(expression))"
   ]
  },
  {
   "cell_type": "code",
   "execution_count": 23,
   "id": "265749d7-ca63-405d-8969-27ab1de4c057",
   "metadata": {},
   "outputs": [
    {
     "name": "stdout",
     "output_type": "stream",
     "text": [
      "5/2 + 3.5\n",
      "6.0\n",
      "<class 'float'>\n"
     ]
    }
   ],
   "source": [
    "exp = \"5/2 + 3.5\"\n",
    "print(exp) # just simply print exp string\n",
    "print(eval(exp)) # evaluated string\n",
    "print(type(eval(exp))) # check for eval(exp) dtatype"
   ]
  },
  {
   "cell_type": "code",
   "execution_count": 26,
   "id": "c6a67210-ba0b-43c9-a725-979928c3b01c",
   "metadata": {},
   "outputs": [
    {
     "name": "stdout",
     "output_type": "stream",
     "text": [
      "0b1001 + 0b0100\n",
      "13\n"
     ]
    }
   ],
   "source": [
    "# expresion can be give in bytes or string only\n",
    "expo = \"0b1001 + 0b0100\"\n",
    "print(expo)\n",
    "print(eval(expo))"
   ]
  },
  {
   "cell_type": "markdown",
   "id": "ecf152e2-8ac3-4ca7-b297-08fafb1293b7",
   "metadata": {},
   "source": [
    "##### help function"
   ]
  },
  {
   "cell_type": "code",
   "execution_count": 27,
   "id": "33f13ee2-c9a9-45c9-9a14-b062c2d29208",
   "metadata": {},
   "outputs": [
    {
     "name": "stdout",
     "output_type": "stream",
     "text": [
      "Help on built-in function print in module builtins:\n",
      "\n",
      "print(*args, sep=' ', end='\\n', file=None, flush=False)\n",
      "    Prints the values to a stream, or to sys.stdout by default.\n",
      "\n",
      "    sep\n",
      "      string inserted between values, default a space.\n",
      "    end\n",
      "      string appended after the last value, default a newline.\n",
      "    file\n",
      "      a file-like object (stream); defaults to the current sys.stdout.\n",
      "    flush\n",
      "      whether to forcibly flush the stream.\n",
      "\n"
     ]
    }
   ],
   "source": [
    "# want to know what print function do\n",
    "help(print)"
   ]
  },
  {
   "cell_type": "markdown",
   "id": "498817e5-9317-49a4-9052-cd9b695e475b",
   "metadata": {},
   "source": [
    "##### input function : most important function"
   ]
  },
  {
   "cell_type": "code",
   "execution_count": 29,
   "id": "bf7754e7-c63a-44d0-86c6-8d67b68a4d2e",
   "metadata": {},
   "outputs": [
    {
     "name": "stdin",
     "output_type": "stream",
     "text": [
      "enter your name abdul rehman gulshan\n"
     ]
    },
    {
     "name": "stdout",
     "output_type": "stream",
     "text": [
      "name etered by user is abdul rehman gulshan\n"
     ]
    }
   ],
   "source": [
    "name = input(\"enter your name\")\n",
    "print(\"name etered by user is\",name)"
   ]
  },
  {
   "cell_type": "code",
   "execution_count": 30,
   "id": "0f855247-cc57-4cac-86d1-b0d2edbe1e48",
   "metadata": {},
   "outputs": [
    {
     "name": "stdout",
     "output_type": "stream",
     "text": [
      "<class 'str'>\n"
     ]
    }
   ],
   "source": [
    "# input function always takes string type data\n",
    "print(type(name))"
   ]
  },
  {
   "cell_type": "code",
   "execution_count": 32,
   "id": "3554cf11-9976-468a-b996-27633740adc1",
   "metadata": {},
   "outputs": [
    {
     "name": "stdin",
     "output_type": "stream",
     "text": [
      "enter your name 176873\n"
     ]
    },
    {
     "name": "stdout",
     "output_type": "stream",
     "text": [
      "entered input:176873\n",
      "<class 'str'>\n"
     ]
    }
   ],
   "source": [
    "# lets check datatype by putting number in input\n",
    "x = input(\"enter your name\")\n",
    "print(\"entered input\",x,sep = \":\")\n",
    "print(type(x)) # it will be str even if you enter number"
   ]
  },
  {
   "cell_type": "markdown",
   "id": "ddb80292-187a-4aef-b17a-7a1f7b387c57",
   "metadata": {},
   "source": [
    "#### Practice Questions"
   ]
  },
  {
   "cell_type": "markdown",
   "id": "fa34891f-9ca6-42a7-b4eb-3761cba8e09a",
   "metadata": {},
   "source": [
    "##### Question 01 : get two numbers from user and calculate their sum"
   ]
  },
  {
   "cell_type": "code",
   "execution_count": 33,
   "id": "cc908c70-e566-4c4e-808f-9197e909454d",
   "metadata": {},
   "outputs": [
    {
     "name": "stdin",
     "output_type": "stream",
     "text": [
      "enter first number 23\n",
      "enter second number 34\n"
     ]
    },
    {
     "name": "stdout",
     "output_type": "stream",
     "text": [
      "57\n"
     ]
    }
   ],
   "source": [
    "x = int(input(\"enter first number\"))\n",
    "y = int(input(\"enter second number\"))\n",
    "print(x+y)"
   ]
  },
  {
   "cell_type": "markdown",
   "id": "e7d83283-345a-4032-8843-f69d2163aa11",
   "metadata": {},
   "source": [
    "##### Question 02"
   ]
  },
  {
   "cell_type": "code",
   "execution_count": 40,
   "id": "5eb95723-738e-4b1f-85e0-6e7b09877dde",
   "metadata": {},
   "outputs": [
    {
     "name": "stdin",
     "output_type": "stream",
     "text": [
      "enter your age -45\n",
      "enter your weight 85\n",
      "enter your height 5.6\n"
     ]
    },
    {
     "name": "stdout",
     "output_type": "stream",
     "text": [
      "correct age 45\n",
      "998\n"
     ]
    }
   ],
   "source": [
    "# inpu from user\n",
    "age = abs(int(input(\"enter your age\"))) # positive int input\n",
    "weight = int(input(\"enter your weight\"))\n",
    "height = float(input(\"enter your height\"))\n",
    "# input correct age\n",
    "print(\"correct age\",age)\n",
    "# calculate Besal Metabolic Rate\n",
    "bmr = \"88.362 + (13.397 * weight)+(4.799 * height)-(5.677 * age)\"\n",
    "print(int(eval(bmr)))"
   ]
  },
  {
   "cell_type": "markdown",
   "id": "cf1315ec-5a90-4767-9d5b-4d9780bf2866",
   "metadata": {},
   "source": [
    "##### Question 03 : write a python code for hostel students , ask them to mention their name and age ,for 5 students and calculate their avg age."
   ]
  },
  {
   "cell_type": "code",
   "execution_count": 5,
   "id": "ed517815-452a-4dd5-b25a-372ef0ddb8cd",
   "metadata": {},
   "outputs": [
    {
     "name": "stdin",
     "output_type": "stream",
     "text": [
      "student:01 name , age gulshan,1\n",
      "student:02 name , age a.tanveer,   2\n",
      "student:03 name , age faizan,3\n",
      "student:04 name , age saikhu,4\n",
      "student:05 name , age johny,5\n"
     ]
    },
    {
     "name": "stdout",
     "output_type": "stream",
     "text": [
      "3.0\n"
     ]
    }
   ],
   "source": [
    "# input donkey method\n",
    "a,b = input(\"student:01 name , age\").split(\",\")\n",
    "c,d = input(\"student:02 name , age\").split(\",\")\n",
    "e,f = input(\"student:03 name , age\").split(\",\")\n",
    "g,h = input(\"student:04 name , age\").split(\",\")\n",
    "i,j = input(\"student:05 name , age\").split(\",\")\n",
    "# calculate avg age .. donkey method\n",
    "avg_age = (int(b)+int(d)+int(f)+int(h)+int(j))/5\n",
    "print(avg_age)"
   ]
  }
 ],
 "metadata": {
  "kernelspec": {
   "display_name": "Python [conda env:base] *",
   "language": "python",
   "name": "conda-base-py"
  },
  "language_info": {
   "codemirror_mode": {
    "name": "ipython",
    "version": 3
   },
   "file_extension": ".py",
   "mimetype": "text/x-python",
   "name": "python",
   "nbconvert_exporter": "python",
   "pygments_lexer": "ipython3",
   "version": "3.12.7"
  }
 },
 "nbformat": 4,
 "nbformat_minor": 5
}
