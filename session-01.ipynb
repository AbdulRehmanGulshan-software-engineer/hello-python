{
 "cells": [
  {
   "cell_type": "markdown",
   "id": "12f08609-a2a8-4a76-9841-08ae215b360f",
   "metadata": {},
   "source": [
    "### 1. Python Output"
   ]
  },
  {
   "cell_type": "markdown",
   "id": "642b73e6-e719-4ca8-85f9-ecfde9c7e35d",
   "metadata": {},
   "source": [
    "#### Print Function"
   ]
  },
  {
   "cell_type": "markdown",
   "id": "09040e12-2e36-483d-bbdd-f297e2c5c4e3",
   "metadata": {},
   "source": [
    "##### python is a case sensitive language"
   ]
  },
  {
   "cell_type": "code",
   "execution_count": 1,
   "id": "806aa111-0e09-4940-8810-fe2eb16766ee",
   "metadata": {
    "jp-MarkdownHeadingCollapsed": true
   },
   "outputs": [
    {
     "name": "stdout",
     "output_type": "stream",
     "text": [
      "Hello World\n"
     ]
    }
   ],
   "source": [
    "print('Hello World')"
   ]
  },
  {
   "cell_type": "code",
   "execution_count": 7,
   "id": "64874157-941f-4237-bccd-78c13b04424f",
   "metadata": {},
   "outputs": [
    {
     "name": "stdout",
     "output_type": "stream",
     "text": [
      "Abdul Rehman Gulshan\n"
     ]
    }
   ],
   "source": [
    "print('Abdul Rehman Gulshan')"
   ]
  },
  {
   "cell_type": "code",
   "execution_count": 10,
   "id": "10d59eef-4d22-440c-8362-88f279741982",
   "metadata": {},
   "outputs": [
    {
     "name": "stdout",
     "output_type": "stream",
     "text": [
      "7\n"
     ]
    }
   ],
   "source": [
    "print(7)"
   ]
  },
  {
   "cell_type": "code",
   "execution_count": 11,
   "id": "2199e049-4f9d-4f63-b7d0-45bf803e087f",
   "metadata": {},
   "outputs": [
    {
     "name": "stdout",
     "output_type": "stream",
     "text": [
      "7.7\n"
     ]
    }
   ],
   "source": [
    "print(7.7)"
   ]
  },
  {
   "cell_type": "code",
   "execution_count": 12,
   "id": "58c49c9c-3730-476d-bb22-d266d32855a0",
   "metadata": {},
   "outputs": [
    {
     "name": "stdout",
     "output_type": "stream",
     "text": [
      "True\n"
     ]
    }
   ],
   "source": [
    "print(True)"
   ]
  },
  {
   "cell_type": "code",
   "execution_count": 13,
   "id": "159883f6-20dd-4dca-9836-9b4d7a418c1d",
   "metadata": {},
   "outputs": [
    {
     "name": "stdout",
     "output_type": "stream",
     "text": [
      "hello 7 7.5 True\n"
     ]
    }
   ],
   "source": [
    "print('hello',7,7.5,True)"
   ]
  },
  {
   "cell_type": "code",
   "execution_count": 14,
   "id": "d481a425-a677-491c-8222-d09424928db7",
   "metadata": {},
   "outputs": [
    {
     "name": "stdout",
     "output_type": "stream",
     "text": [
      "hello/7/7.7/False\n"
     ]
    }
   ],
   "source": [
    "print('hello',7,7.7,False,sep='/')"
   ]
  },
  {
   "cell_type": "code",
   "execution_count": 15,
   "id": "461ed94e-2076-4c3d-9ac8-de5ba2d9a1fc",
   "metadata": {},
   "outputs": [
    {
     "name": "stdout",
     "output_type": "stream",
     "text": [
      "Hello\n",
      "World\n"
     ]
    }
   ],
   "source": [
    "print('Hello')\n",
    "print('World')"
   ]
  },
  {
   "cell_type": "code",
   "execution_count": 16,
   "id": "71be33b1-e979-4f3e-a416-49fcc936db05",
   "metadata": {},
   "outputs": [
    {
     "name": "stdout",
     "output_type": "stream",
     "text": [
      "Hello-World\n"
     ]
    }
   ],
   "source": [
    "print('Hello',end='-')\n",
    "print('World')\n"
   ]
  },
  {
   "cell_type": "markdown",
   "id": "07576349-2968-480b-9c4d-645c306dc91d",
   "metadata": {},
   "source": [
    "### 2. Data Types"
   ]
  },
  {
   "cell_type": "markdown",
   "id": "01fb1f69-3950-405a-9a21-972cd2264578",
   "metadata": {},
   "source": [
    "#### Integer"
   ]
  },
  {
   "cell_type": "code",
   "execution_count": 20,
   "id": "b18cbb07-e645-4bce-be04-929e2728d150",
   "metadata": {},
   "outputs": [
    {
     "name": "stdout",
     "output_type": "stream",
     "text": [
      "8\n",
      "1e+308\n",
      "inf\n"
     ]
    }
   ],
   "source": [
    "# integer\n",
    "print(8)\n",
    "# 1*10^308\n",
    "print(1e308)\n",
    "# 1*10^309\n",
    "print(1e309)"
   ]
  },
  {
   "cell_type": "markdown",
   "id": "c3910577-8599-415e-9dba-944988e1f62f",
   "metadata": {},
   "source": [
    "#### Decimal/Float"
   ]
  },
  {
   "cell_type": "code",
   "execution_count": 21,
   "id": "6929ebe9-5b35-4c13-aecd-ad99c6eada1a",
   "metadata": {},
   "outputs": [
    {
     "name": "stdout",
     "output_type": "stream",
     "text": [
      "8.56\n",
      "1.4e+308\n",
      "inf\n"
     ]
    }
   ],
   "source": [
    "print(8.56)\n",
    "print(1.4e308)\n",
    "print(1.4e309)"
   ]
  },
  {
   "cell_type": "markdown",
   "id": "f9cba1ec-935e-454d-8570-001a63687700",
   "metadata": {},
   "source": [
    "#### Boolean"
   ]
  },
  {
   "cell_type": "code",
   "execution_count": 2,
   "id": "9e88cc1e-c9f8-44ff-9964-e7548e1d9dd3",
   "metadata": {},
   "outputs": [
    {
     "name": "stdout",
     "output_type": "stream",
     "text": [
      "True\n",
      "False\n"
     ]
    }
   ],
   "source": [
    "print(True)\n",
    "print(False)"
   ]
  },
  {
   "cell_type": "markdown",
   "id": "555856f8-2318-4e8d-9f8a-ceca9643ec73",
   "metadata": {},
   "source": [
    "#### Text/Strings"
   ]
  },
  {
   "cell_type": "code",
   "execution_count": 5,
   "id": "9f76cb5d-d470-4758-b046-43880b040be3",
   "metadata": {},
   "outputs": [
    {
     "name": "stdout",
     "output_type": "stream",
     "text": [
      "Hello World\n"
     ]
    }
   ],
   "source": [
    "print('Hello World')"
   ]
  },
  {
   "cell_type": "markdown",
   "id": "ffc52276-6306-4b3d-9b15-bbc073a884f5",
   "metadata": {},
   "source": [
    "#### Complex Number"
   ]
  },
  {
   "cell_type": "code",
   "execution_count": 6,
   "id": "040b1279-47a2-4c7e-869d-130b120c9712",
   "metadata": {},
   "outputs": [
    {
     "name": "stdout",
     "output_type": "stream",
     "text": [
      "(5+6j)\n"
     ]
    }
   ],
   "source": [
    "print(5+6j)"
   ]
  },
  {
   "cell_type": "markdown",
   "id": "9f384fd2-d73d-4428-a2d8-be9915a791c0",
   "metadata": {},
   "source": [
    "#### List-> C-> Array"
   ]
  },
  {
   "cell_type": "code",
   "execution_count": 7,
   "id": "2b03d970-7319-4242-97fc-a9c978c390fc",
   "metadata": {},
   "outputs": [
    {
     "name": "stdout",
     "output_type": "stream",
     "text": [
      "[1, 2, 3, 4, 5]\n"
     ]
    }
   ],
   "source": [
    "print([1,2,3,4,5])"
   ]
  },
  {
   "cell_type": "markdown",
   "id": "2d58dfdc-ed5d-4264-ac2a-12ac4debaf7e",
   "metadata": {},
   "source": [
    "#### Tuple"
   ]
  },
  {
   "cell_type": "code",
   "execution_count": 8,
   "id": "0be927b6-d252-412a-a0a8-a3b1d6fd7a86",
   "metadata": {},
   "outputs": [
    {
     "name": "stdout",
     "output_type": "stream",
     "text": [
      "(1, 2, 3, 4, 5)\n"
     ]
    }
   ],
   "source": [
    "print((1,2,3,4,5))"
   ]
  },
  {
   "cell_type": "markdown",
   "id": "506a74b2-7c8d-440c-8aed-534e402835ea",
   "metadata": {},
   "source": [
    "#### Sets"
   ]
  },
  {
   "cell_type": "code",
   "execution_count": 9,
   "id": "364d77d0-8154-4d07-8542-aa9452120609",
   "metadata": {},
   "outputs": [
    {
     "name": "stdout",
     "output_type": "stream",
     "text": [
      "{1, 2, 3, 4, 5}\n"
     ]
    }
   ],
   "source": [
    "print({1,2,3,4,5})"
   ]
  },
  {
   "cell_type": "markdown",
   "id": "00397bec-f2cf-490c-93f7-35dbf74e5e06",
   "metadata": {},
   "source": [
    "#### Dictionary"
   ]
  },
  {
   "cell_type": "code",
   "execution_count": 10,
   "id": "a16ab655-edc5-45a2-a4a5-460230131d7d",
   "metadata": {},
   "outputs": [
    {
     "name": "stdout",
     "output_type": "stream",
     "text": [
      "{'name': 'Saadi', 'gender': 'male', 'weight': 68}\n"
     ]
    }
   ],
   "source": [
    "print({'name':'Saadi','gender':'male','weight':68})"
   ]
  },
  {
   "cell_type": "markdown",
   "id": "b0c2d322-bb0d-45c1-b0dd-982aef734697",
   "metadata": {},
   "source": [
    "#### Type Function"
   ]
  },
  {
   "cell_type": "code",
   "execution_count": 26,
   "id": "dc2326c3-92aa-4522-9b07-d60c1dd60f15",
   "metadata": {},
   "outputs": [
    {
     "data": {
      "text/plain": [
       "int"
      ]
     },
     "execution_count": 26,
     "metadata": {},
     "output_type": "execute_result"
    }
   ],
   "source": [
    "type(2)"
   ]
  },
  {
   "cell_type": "code",
   "execution_count": 27,
   "id": "52037ecf-39e3-4513-95f5-cb36d62e6ef3",
   "metadata": {},
   "outputs": [
    {
     "data": {
      "text/plain": [
       "float"
      ]
     },
     "execution_count": 27,
     "metadata": {},
     "output_type": "execute_result"
    }
   ],
   "source": [
    "type(3.76)"
   ]
  },
  {
   "cell_type": "code",
   "execution_count": 28,
   "id": "7675720c-3c8c-471c-89b5-8ba273afa922",
   "metadata": {},
   "outputs": [
    {
     "data": {
      "text/plain": [
       "str"
      ]
     },
     "execution_count": 28,
     "metadata": {},
     "output_type": "execute_result"
    }
   ],
   "source": [
    "type('hello')"
   ]
  },
  {
   "cell_type": "code",
   "execution_count": 2,
   "id": "94f78c84-4662-4979-91b7-32921ceb0f5a",
   "metadata": {},
   "outputs": [
    {
     "data": {
      "text/plain": [
       "complex"
      ]
     },
     "execution_count": 2,
     "metadata": {},
     "output_type": "execute_result"
    }
   ],
   "source": [
    "type(6+6J)"
   ]
  },
  {
   "cell_type": "code",
   "execution_count": 30,
   "id": "c55a2c43-46e6-4858-8746-f1f4380fc849",
   "metadata": {},
   "outputs": [
    {
     "data": {
      "text/plain": [
       "list"
      ]
     },
     "execution_count": 30,
     "metadata": {},
     "output_type": "execute_result"
    }
   ],
   "source": [
    "type([1,2,3,4,5])"
   ]
  },
  {
   "cell_type": "code",
   "execution_count": null,
   "id": "5e375b91-dfdf-407f-86f8-239ce4f47c2f",
   "metadata": {},
   "outputs": [],
   "source": []
  }
 ],
 "metadata": {
  "kernelspec": {
   "display_name": "Python 3",
   "language": "python",
   "name": "python3"
  },
  "language_info": {
   "codemirror_mode": {
    "name": "ipython",
    "version": 3
   },
   "file_extension": ".py",
   "mimetype": "text/x-python",
   "name": "python",
   "nbconvert_exporter": "python",
   "pygments_lexer": "ipython3",
   "version": "3.12.7"
  }
 },
 "nbformat": 4,
 "nbformat_minor": 5
}
