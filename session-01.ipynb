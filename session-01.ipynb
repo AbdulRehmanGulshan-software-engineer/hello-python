{
 "cells": [
  {
   "cell_type": "markdown",
   "id": "12f08609-a2a8-4a76-9841-08ae215b360f",
   "metadata": {},
   "source": [
    "### 1. Python Output"
   ]
  },
  {
   "cell_type": "markdown",
   "id": "642b73e6-e719-4ca8-85f9-ecfde9c7e35d",
   "metadata": {},
   "source": [
    "#### Print Function"
   ]
  },
  {
   "cell_type": "markdown",
   "id": "09040e12-2e36-483d-bbdd-f297e2c5c4e3",
   "metadata": {},
   "source": [
    "##### python is a case sensitive language"
   ]
  },
  {
   "cell_type": "code",
   "execution_count": 1,
   "id": "806aa111-0e09-4940-8810-fe2eb16766ee",
   "metadata": {
    "jp-MarkdownHeadingCollapsed": true
   },
   "outputs": [
    {
     "name": "stdout",
     "output_type": "stream",
     "text": [
      "Hello World\n"
     ]
    }
   ],
   "source": [
    "print('Hello World')"
   ]
  },
  {
   "cell_type": "code",
   "execution_count": 7,
   "id": "64874157-941f-4237-bccd-78c13b04424f",
   "metadata": {},
   "outputs": [
    {
     "name": "stdout",
     "output_type": "stream",
     "text": [
      "Abdul Rehman Gulshan\n"
     ]
    }
   ],
   "source": [
    "print('Abdul Rehman Gulshan')"
   ]
  },
  {
   "cell_type": "code",
   "execution_count": 10,
   "id": "10d59eef-4d22-440c-8362-88f279741982",
   "metadata": {},
   "outputs": [
    {
     "name": "stdout",
     "output_type": "stream",
     "text": [
      "7\n"
     ]
    }
   ],
   "source": [
    "print(7)"
   ]
  },
  {
   "cell_type": "code",
   "execution_count": 11,
   "id": "2199e049-4f9d-4f63-b7d0-45bf803e087f",
   "metadata": {},
   "outputs": [
    {
     "name": "stdout",
     "output_type": "stream",
     "text": [
      "7.7\n"
     ]
    }
   ],
   "source": [
    "print(7.7)"
   ]
  },
  {
   "cell_type": "code",
   "execution_count": 12,
   "id": "58c49c9c-3730-476d-bb22-d266d32855a0",
   "metadata": {},
   "outputs": [
    {
     "name": "stdout",
     "output_type": "stream",
     "text": [
      "True\n"
     ]
    }
   ],
   "source": [
    "print(True)"
   ]
  },
  {
   "cell_type": "code",
   "execution_count": 13,
   "id": "159883f6-20dd-4dca-9836-9b4d7a418c1d",
   "metadata": {},
   "outputs": [
    {
     "name": "stdout",
     "output_type": "stream",
     "text": [
      "hello 7 7.5 True\n"
     ]
    }
   ],
   "source": [
    "print('hello',7,7.5,True)"
   ]
  },
  {
   "cell_type": "code",
   "execution_count": 14,
   "id": "d481a425-a677-491c-8222-d09424928db7",
   "metadata": {},
   "outputs": [
    {
     "name": "stdout",
     "output_type": "stream",
     "text": [
      "hello/7/7.7/False\n"
     ]
    }
   ],
   "source": [
    "print('hello',7,7.7,False,sep='/')"
   ]
  },
  {
   "cell_type": "code",
   "execution_count": 15,
   "id": "461ed94e-2076-4c3d-9ac8-de5ba2d9a1fc",
   "metadata": {},
   "outputs": [
    {
     "name": "stdout",
     "output_type": "stream",
     "text": [
      "Hello\n",
      "World\n"
     ]
    }
   ],
   "source": [
    "print('Hello')\n",
    "print('World')"
   ]
  },
  {
   "cell_type": "code",
   "execution_count": 16,
   "id": "71be33b1-e979-4f3e-a416-49fcc936db05",
   "metadata": {},
   "outputs": [
    {
     "name": "stdout",
     "output_type": "stream",
     "text": [
      "Hello-World\n"
     ]
    }
   ],
   "source": [
    "print('Hello',end='-')\n",
    "print('World')\n"
   ]
  },
  {
   "cell_type": "markdown",
   "id": "07576349-2968-480b-9c4d-645c306dc91d",
   "metadata": {},
   "source": [
    "### 2. Data Types"
   ]
  },
  {
   "cell_type": "markdown",
   "id": "01fb1f69-3950-405a-9a21-972cd2264578",
   "metadata": {},
   "source": [
    "#### Integer"
   ]
  },
  {
   "cell_type": "code",
   "execution_count": 20,
   "id": "b18cbb07-e645-4bce-be04-929e2728d150",
   "metadata": {},
   "outputs": [
    {
     "name": "stdout",
     "output_type": "stream",
     "text": [
      "8\n",
      "1e+308\n",
      "inf\n"
     ]
    }
   ],
   "source": [
    "# integer\n",
    "print(8)\n",
    "# 1*10^308\n",
    "print(1e308)\n",
    "# 1*10^309\n",
    "print(1e309)"
   ]
  },
  {
   "cell_type": "markdown",
   "id": "c3910577-8599-415e-9dba-944988e1f62f",
   "metadata": {},
   "source": [
    "#### Decimal/Float"
   ]
  },
  {
   "cell_type": "code",
   "execution_count": 21,
   "id": "6929ebe9-5b35-4c13-aecd-ad99c6eada1a",
   "metadata": {},
   "outputs": [
    {
     "name": "stdout",
     "output_type": "stream",
     "text": [
      "8.56\n",
      "1.4e+308\n",
      "inf\n"
     ]
    }
   ],
   "source": [
    "print(8.56)\n",
    "print(1.4e308)\n",
    "print(1.4e309)"
   ]
  },
  {
   "cell_type": "markdown",
   "id": "f9cba1ec-935e-454d-8570-001a63687700",
   "metadata": {},
   "source": [
    "#### Boolean"
   ]
  },
  {
   "cell_type": "code",
   "execution_count": 2,
   "id": "9e88cc1e-c9f8-44ff-9964-e7548e1d9dd3",
   "metadata": {},
   "outputs": [
    {
     "name": "stdout",
     "output_type": "stream",
     "text": [
      "True\n",
      "False\n"
     ]
    }
   ],
   "source": [
    "print(True)\n",
    "print(False)"
   ]
  },
  {
   "cell_type": "markdown",
   "id": "555856f8-2318-4e8d-9f8a-ceca9643ec73",
   "metadata": {},
   "source": [
    "#### Text/Strings"
   ]
  },
  {
   "cell_type": "code",
   "execution_count": 5,
   "id": "9f76cb5d-d470-4758-b046-43880b040be3",
   "metadata": {},
   "outputs": [
    {
     "name": "stdout",
     "output_type": "stream",
     "text": [
      "Hello World\n"
     ]
    }
   ],
   "source": [
    "print('Hello World')"
   ]
  },
  {
   "cell_type": "markdown",
   "id": "ffc52276-6306-4b3d-9b15-bbc073a884f5",
   "metadata": {},
   "source": [
    "#### Complex Number"
   ]
  },
  {
   "cell_type": "code",
   "execution_count": 6,
   "id": "040b1279-47a2-4c7e-869d-130b120c9712",
   "metadata": {},
   "outputs": [
    {
     "name": "stdout",
     "output_type": "stream",
     "text": [
      "(5+6j)\n"
     ]
    }
   ],
   "source": [
    "print(5+6j)"
   ]
  },
  {
   "cell_type": "markdown",
   "id": "9f384fd2-d73d-4428-a2d8-be9915a791c0",
   "metadata": {},
   "source": [
    "#### List-> C-> Array"
   ]
  },
  {
   "cell_type": "code",
   "execution_count": 7,
   "id": "2b03d970-7319-4242-97fc-a9c978c390fc",
   "metadata": {},
   "outputs": [
    {
     "name": "stdout",
     "output_type": "stream",
     "text": [
      "[1, 2, 3, 4, 5]\n"
     ]
    }
   ],
   "source": [
    "print([1,2,3,4,5])"
   ]
  },
  {
   "cell_type": "markdown",
   "id": "2d58dfdc-ed5d-4264-ac2a-12ac4debaf7e",
   "metadata": {},
   "source": [
    "#### Tuple"
   ]
  },
  {
   "cell_type": "code",
   "execution_count": 8,
   "id": "0be927b6-d252-412a-a0a8-a3b1d6fd7a86",
   "metadata": {},
   "outputs": [
    {
     "name": "stdout",
     "output_type": "stream",
     "text": [
      "(1, 2, 3, 4, 5)\n"
     ]
    }
   ],
   "source": [
    "print((1,2,3,4,5))"
   ]
  },
  {
   "cell_type": "markdown",
   "id": "506a74b2-7c8d-440c-8aed-534e402835ea",
   "metadata": {},
   "source": [
    "#### Sets"
   ]
  },
  {
   "cell_type": "code",
   "execution_count": 9,
   "id": "364d77d0-8154-4d07-8542-aa9452120609",
   "metadata": {},
   "outputs": [
    {
     "name": "stdout",
     "output_type": "stream",
     "text": [
      "{1, 2, 3, 4, 5}\n"
     ]
    }
   ],
   "source": [
    "print({1,2,3,4,5})"
   ]
  },
  {
   "cell_type": "markdown",
   "id": "00397bec-f2cf-490c-93f7-35dbf74e5e06",
   "metadata": {},
   "source": [
    "#### Dictionary"
   ]
  },
  {
   "cell_type": "code",
   "execution_count": 10,
   "id": "a16ab655-edc5-45a2-a4a5-460230131d7d",
   "metadata": {},
   "outputs": [
    {
     "name": "stdout",
     "output_type": "stream",
     "text": [
      "{'name': 'Saadi', 'gender': 'male', 'weight': 68}\n"
     ]
    }
   ],
   "source": [
    "print({'name':'Saadi','gender':'male','weight':68})"
   ]
  },
  {
   "cell_type": "markdown",
   "id": "b0c2d322-bb0d-45c1-b0dd-982aef734697",
   "metadata": {},
   "source": [
    "#### Type Function"
   ]
  },
  {
   "cell_type": "code",
   "execution_count": 26,
   "id": "dc2326c3-92aa-4522-9b07-d60c1dd60f15",
   "metadata": {},
   "outputs": [
    {
     "data": {
      "text/plain": [
       "int"
      ]
     },
     "execution_count": 26,
     "metadata": {},
     "output_type": "execute_result"
    }
   ],
   "source": [
    "type(2)"
   ]
  },
  {
   "cell_type": "code",
   "execution_count": 27,
   "id": "52037ecf-39e3-4513-95f5-cb36d62e6ef3",
   "metadata": {},
   "outputs": [
    {
     "data": {
      "text/plain": [
       "float"
      ]
     },
     "execution_count": 27,
     "metadata": {},
     "output_type": "execute_result"
    }
   ],
   "source": [
    "type(3.76)"
   ]
  },
  {
   "cell_type": "code",
   "execution_count": 28,
   "id": "7675720c-3c8c-471c-89b5-8ba273afa922",
   "metadata": {},
   "outputs": [
    {
     "data": {
      "text/plain": [
       "str"
      ]
     },
     "execution_count": 28,
     "metadata": {},
     "output_type": "execute_result"
    }
   ],
   "source": [
    "type('hello')"
   ]
  },
  {
   "cell_type": "code",
   "execution_count": 2,
   "id": "94f78c84-4662-4979-91b7-32921ceb0f5a",
   "metadata": {},
   "outputs": [
    {
     "data": {
      "text/plain": [
       "complex"
      ]
     },
     "execution_count": 2,
     "metadata": {},
     "output_type": "execute_result"
    }
   ],
   "source": [
    "type(6+6J)"
   ]
  },
  {
   "cell_type": "code",
   "execution_count": 30,
   "id": "c55a2c43-46e6-4858-8746-f1f4380fc849",
   "metadata": {},
   "outputs": [
    {
     "data": {
      "text/plain": [
       "list"
      ]
     },
     "execution_count": 30,
     "metadata": {},
     "output_type": "execute_result"
    }
   ],
   "source": [
    "type([1,2,3,4,5])"
   ]
  },
  {
   "cell_type": "markdown",
   "id": "98cabf64-ebb7-45e9-af25-bb3054f596bf",
   "metadata": {},
   "source": [
    "### 3. Variables"
   ]
  },
  {
   "cell_type": "markdown",
   "id": "d4659d29-090b-4976-8ad6-74ec3c2e9209",
   "metadata": {},
   "source": [
    "##### Static vs Dynamic Typing\n",
    "##### Static vs Dynamic Binding\n",
    "##### Stylish Declaration Techniques"
   ]
  },
  {
   "cell_type": "code",
   "execution_count": 3,
   "id": "8c3bf160-1e67-43f9-b0bc-aa210a1b4261",
   "metadata": {},
   "outputs": [
    {
     "name": "stdout",
     "output_type": "stream",
     "text": [
      "Abdul Rehman Gulshan\n",
      "50\n"
     ]
    }
   ],
   "source": [
    "name = 'Abdul Rehman Gulshan'\n",
    "print(name)\n",
    "\n",
    "a=25\n",
    "b=25\n",
    "print(a+b)"
   ]
  },
  {
   "cell_type": "markdown",
   "id": "4fe13acc-ce8a-4161-b2dc-067cd24f4a88",
   "metadata": {},
   "source": [
    "##### Dynamic Typing\n",
    "##### a = 5\n",
    "##### Static Typing\n",
    "##### int a = 5;\n",
    "###### C,Java,C++ supports static typing"
   ]
  },
  {
   "cell_type": "code",
   "execution_count": 6,
   "id": "47fa5f90-c877-4c26-9f11-626b0a7f1a79",
   "metadata": {},
   "outputs": [
    {
     "data": {
      "text/plain": [
       "int"
      ]
     },
     "execution_count": 6,
     "metadata": {},
     "output_type": "execute_result"
    }
   ],
   "source": [
    "a=5\n",
    "type(a)"
   ]
  },
  {
   "cell_type": "code",
   "execution_count": 7,
   "id": "aa05d1d5-b96a-4114-9194-a795917ca395",
   "metadata": {},
   "outputs": [
    {
     "data": {
      "text/plain": [
       "float"
      ]
     },
     "execution_count": 7,
     "metadata": {},
     "output_type": "execute_result"
    }
   ],
   "source": [
    "b=4.5\n",
    "type(b)"
   ]
  },
  {
   "cell_type": "markdown",
   "id": "525872ba-60e2-4807-8bac-323a2b275e72",
   "metadata": {},
   "source": [
    "##### Dynamic Binding"
   ]
  },
  {
   "cell_type": "code",
   "execution_count": 11,
   "id": "fc2506b9-03cb-410c-a4f4-d892edd69126",
   "metadata": {},
   "outputs": [
    {
     "name": "stdout",
     "output_type": "stream",
     "text": [
      "5\n",
      "Abdul Rehman Gulshan\n"
     ]
    }
   ],
   "source": [
    "a=5\n",
    "print(a)\n",
    "a = 'Abdul Rehman Gulshan'\n",
    "print(a)"
   ]
  },
  {
   "cell_type": "markdown",
   "id": "b38afc73-dfa8-4bcf-a7c7-cf32ccc2eff8",
   "metadata": {},
   "source": [
    "##### Stylish Methods Of Making Variables"
   ]
  },
  {
   "cell_type": "code",
   "execution_count": 12,
   "id": "ee861e54-eb0d-47f6-a0eb-cc7863586dda",
   "metadata": {},
   "outputs": [
    {
     "name": "stdout",
     "output_type": "stream",
     "text": [
      "1 2 3\n"
     ]
    }
   ],
   "source": [
    "a=1\n",
    "b=2\n",
    "c=3\n",
    "print(a,b,c)"
   ]
  },
  {
   "cell_type": "markdown",
   "id": "34d93b81-6da1-4dc9-b979-bf4a15d5802d",
   "metadata": {},
   "source": [
    "###### It can be compressed"
   ]
  },
  {
   "cell_type": "code",
   "execution_count": 13,
   "id": "e5bbf814-ace1-46fd-8d54-d43119eeb6e8",
   "metadata": {},
   "outputs": [
    {
     "name": "stdout",
     "output_type": "stream",
     "text": [
      "1 2 3\n"
     ]
    }
   ],
   "source": [
    "a,b,c = 1,2,3\n",
    "print(a,b,c)"
   ]
  },
  {
   "cell_type": "code",
   "execution_count": 16,
   "id": "61b1432c-e684-4cf6-a247-07884966330b",
   "metadata": {},
   "outputs": [
    {
     "name": "stdout",
     "output_type": "stream",
     "text": [
      "5 5 5\n"
     ]
    }
   ],
   "source": [
    "a=b=c=5\n",
    "print(a,b,c)"
   ]
  },
  {
   "cell_type": "markdown",
   "id": "24b94bce-2a8b-4970-866e-288a3e2af17d",
   "metadata": {},
   "source": [
    "##### Comments"
   ]
  },
  {
   "cell_type": "code",
   "execution_count": 1,
   "id": "74b80cd2-9a14-44c3-b87a-afcd835efab8",
   "metadata": {},
   "outputs": [
    {
     "name": "stdout",
     "output_type": "stream",
     "text": [
      "9\n"
     ]
    }
   ],
   "source": [
    "# This is a comment, interpreter will ignore this line\n",
    "a = 5\n",
    "b = 4\n",
    "# This is second comment, interpreter will ignore this line\n",
    "print(a+b)"
   ]
  },
  {
   "cell_type": "markdown",
   "id": "d7c9acbc-3da8-4724-9729-56ebf2680596",
   "metadata": {},
   "source": [
    "### 4. Keywords And Identifiers"
   ]
  },
  {
   "cell_type": "markdown",
   "id": "27e444a7-1781-42a7-aeb2-e7a7d366d497",
   "metadata": {},
   "source": [
    "##### Keywords\n",
    "###### There are 32 keywords which we should avoid while naming variables.\n",
    "###### Reason: They can create confusion for interpreter"
   ]
  },
  {
   "cell_type": "markdown",
   "id": "78957f2e-9166-4f79-8f38-a7a6af001da6",
   "metadata": {},
   "source": [
    "#### Identifiers"
   ]
  },
  {
   "cell_type": "code",
   "execution_count": 11,
   "id": "979e88e2-6291-4abc-b524-9506f55f10c1",
   "metadata": {},
   "outputs": [
    {
     "name": "stdout",
     "output_type": "stream",
     "text": [
      "Abdul Rehman Gulshan\n",
      "Abdul Rehman Gulshan\n",
      "Abdul Rehman Gulshan\n"
     ]
    }
   ],
   "source": [
    "#Rules\n",
    "#1:You can,t start with a digit\n",
    "name1='Abdul Rehman Gulshan' #but can use this\n",
    "print(name1)\n",
    "#2:You can use special char -> _\n",
    "first_name='Abdul Rehman Gulshan'\n",
    "print(first_name)\n",
    "#can use just undescore\n",
    "_='Abdul Rehman Gulshan'\n",
    "print(_)\n",
    "#3:Identifiers can't be keyword"
   ]
  },
  {
   "cell_type": "markdown",
   "id": "7786f459-ccdd-4574-8345-9ef1491ecee6",
   "metadata": {},
   "source": [
    "### Temp Heading"
   ]
  },
  {
   "cell_type": "markdown",
   "id": "ca43f2ea-52d3-4f2c-a114-bc3e1b9b01a8",
   "metadata": {},
   "source": [
    "#### 5. User Input"
   ]
  },
  {
   "cell_type": "code",
   "execution_count": 3,
   "id": "0db005c5-17e2-4338-8f29-3140ac881e84",
   "metadata": {},
   "outputs": [
    {
     "name": "stdin",
     "output_type": "stream",
     "text": [
      "Enter Your Name:  Abdul Rehman Gulshan\n"
     ]
    },
    {
     "data": {
      "text/plain": [
       "'Abdul Rehman Gulshan'"
      ]
     },
     "execution_count": 3,
     "metadata": {},
     "output_type": "execute_result"
    }
   ],
   "source": [
    "input('Enter Your Name: ')"
   ]
  },
  {
   "cell_type": "markdown",
   "id": "9869effc-abfd-4f2f-8082-6fa5c70e6e18",
   "metadata": {},
   "source": [
    "#### Problem:\n",
    "##### Input two numbers from user and add them"
   ]
  },
  {
   "cell_type": "code",
   "execution_count": 5,
   "id": "2bf2ce2e-87a2-4557-a004-18bc77d70a20",
   "metadata": {},
   "outputs": [
    {
     "name": "stdin",
     "output_type": "stream",
     "text": [
      "enter first number:  12\n",
      "enter second number:  12\n"
     ]
    },
    {
     "name": "stdout",
     "output_type": "stream",
     "text": [
      "<class 'str'> <class 'str'>\n",
      "sum is : 24\n",
      "<class 'str'> <class 'str'>\n"
     ]
    }
   ],
   "source": [
    "# take input from user and store them in a variable\n",
    "fnum = input('enter first number: ')\n",
    "snum = input('enter second number: ')\n",
    "#before type conversion datatype\n",
    "print(type(fnum),type(snum))\n",
    "# add two variables and do type conversion too\n",
    "sum = int(fnum) + int(snum)\n",
    "# print the result\n",
    "print('sum is :',sum)\n",
    "#after type conversion,Type conversion does not changes orignal datatype\n",
    "print(type(fnum),type(snum))"
   ]
  },
  {
   "cell_type": "markdown",
   "id": "9684a916-cfd1-486f-936a-f1bde921708a",
   "metadata": {},
   "source": [
    "### 6. Type Conversion"
   ]
  },
  {
   "cell_type": "markdown",
   "id": "22e685b2-0dd9-4db0-a340-1c44234d550a",
   "metadata": {},
   "source": [
    "#### Implicit vs Explicit"
   ]
  },
  {
   "cell_type": "code",
   "execution_count": 17,
   "id": "9d65997d-8d72-407b-82a8-06bdde577bfe",
   "metadata": {},
   "outputs": [
    {
     "name": "stdout",
     "output_type": "stream",
     "text": [
      "10.6\n"
     ]
    },
    {
     "data": {
      "text/plain": [
       "(int, float)"
      ]
     },
     "execution_count": 17,
     "metadata": {},
     "output_type": "execute_result"
    }
   ],
   "source": [
    "# Example of implicit where interpreter is intelligent\n",
    "print(5+5.6)\n",
    "type(5),type(5.6)\n",
    "# but sometimes implicit don't work\n",
    "# print(4+'4')"
   ]
  },
  {
   "cell_type": "code",
   "execution_count": 27,
   "id": "9678e3dd-d8cd-48c8-b003-c7f4ade10715",
   "metadata": {},
   "outputs": [
    {
     "data": {
      "text/plain": [
       "int"
      ]
     },
     "execution_count": 27,
     "metadata": {},
     "output_type": "execute_result"
    }
   ],
   "source": [
    "#Explicit\n",
    "# str -> int\n",
    "type(int('4'))"
   ]
  },
  {
   "cell_type": "code",
   "execution_count": 22,
   "id": "5297553d-dc30-4b5d-a327-9f2d2413179d",
   "metadata": {},
   "outputs": [
    {
     "data": {
      "text/plain": [
       "int"
      ]
     },
     "execution_count": 22,
     "metadata": {},
     "output_type": "execute_result"
    }
   ],
   "source": [
    "type(int(4.5))"
   ]
  },
  {
   "cell_type": "code",
   "execution_count": 25,
   "id": "7c6f6576-a61c-41fb-921e-51cceaf15ccc",
   "metadata": {},
   "outputs": [],
   "source": [
    "#Be careful! \n",
    "#int(4+5j) This is not possible as compiler will lost some information"
   ]
  },
  {
   "cell_type": "code",
   "execution_count": 28,
   "id": "85ee2435-5cc1-4271-8064-622dec5f63b1",
   "metadata": {},
   "outputs": [
    {
     "data": {
      "text/plain": [
       "'5'"
      ]
     },
     "execution_count": 28,
     "metadata": {},
     "output_type": "execute_result"
    }
   ],
   "source": [
    "# int -> str\n",
    "str(5)"
   ]
  },
  {
   "cell_type": "code",
   "execution_count": 29,
   "id": "1d7c3eaf-099b-4eae-bbc6-3d8410e592e2",
   "metadata": {},
   "outputs": [
    {
     "data": {
      "text/plain": [
       "4.0"
      ]
     },
     "execution_count": 29,
     "metadata": {},
     "output_type": "execute_result"
    }
   ],
   "source": [
    "# float\n",
    "float(4)"
   ]
  },
  {
   "cell_type": "markdown",
   "id": "5f4ccbf2-66fc-4192-8a6f-89df7dabd724",
   "metadata": {},
   "source": [
    "### 7. Literals"
   ]
  },
  {
   "cell_type": "code",
   "execution_count": 11,
   "id": "dfeb5432-bbf1-4661-a079-5dc87399bb6e",
   "metadata": {},
   "outputs": [
    {
     "name": "stdout",
     "output_type": "stream",
     "text": [
      "11\n",
      "100\n",
      "200\n",
      "300\n",
      "12.4\n",
      "180.0\n",
      "0.00016\n",
      "3.14j\n",
      "0.0\n",
      "3.14\n"
     ]
    }
   ],
   "source": [
    "a = 0b1011 # Binary Literals\n",
    "print(a)\n",
    "b = 100 # Decimal Literals\n",
    "print(b)\n",
    "c = 0o310 # Octal Literals\n",
    "print(c)\n",
    "d = 0x12c # Hexadecimal Literals\n",
    "print(d)\n",
    "\n",
    "# Float Literals\n",
    "float_1 = 12.4\n",
    "print(float_1)\n",
    "float_2 = 1.8e2 # 1.8 * 10^2\n",
    "print(float_2)\n",
    "float_3 = 1.6e-4 # 1.6 * 10^-4\n",
    "print(float_3)\n",
    "\n",
    "# Complex Literals\n",
    "x = 3.14j\n",
    "print(x)\n",
    "print(x.real)\n",
    "print(x.imag)"
   ]
  },
  {
   "cell_type": "markdown",
   "id": "3b378a28-859d-493c-b930-15e76f58e000",
   "metadata": {},
   "source": [
    "#### Strings"
   ]
  },
  {
   "cell_type": "code",
   "execution_count": 12,
   "id": "f1248e9c-f39b-4099-8b83-ee4cb1bf9588",
   "metadata": {},
   "outputs": [
    {
     "name": "stdout",
     "output_type": "stream",
     "text": [
      "hello cats\n",
      "hello cats\n",
      "C\n",
      "This is a multiline string with more than one line code.\n",
      "😀😆🤣\n",
      "raw \\n string\n"
     ]
    }
   ],
   "source": [
    "string = 'hello cats'\n",
    "strings = \"hello cats\"\n",
    "char = \"C\"\n",
    "multiline_str = \"\"\"This is a multiline string with more than one line code.\"\"\"\n",
    "unicode = u\"\\U0001f600\\U0001F606\\U0001F923\"\n",
    "raw_string = r\"raw \\n string\"\n",
    "\n",
    "\n",
    "print(string)\n",
    "print(strings)\n",
    "print(char)\n",
    "print(multiline_str)\n",
    "print(unicode)\n",
    "print(raw_string)"
   ]
  },
  {
   "cell_type": "markdown",
   "id": "2afa0743-d621-42ef-8f7c-80c133bba743",
   "metadata": {},
   "source": [
    "#### Booleans"
   ]
  },
  {
   "cell_type": "code",
   "execution_count": 14,
   "id": "eb0c6703-78a8-447f-9959-3d531d41bc0e",
   "metadata": {},
   "outputs": [
    {
     "name": "stdout",
     "output_type": "stream",
     "text": [
      "a: 5\n",
      "b: 10\n"
     ]
    }
   ],
   "source": [
    "a = True + 4\n",
    "b = False + 10\n",
    "\n",
    "print(\"a:\",a)\n",
    "print(\"b:\",b)"
   ]
  },
  {
   "cell_type": "markdown",
   "id": "f8ec2ee2-c4af-4dfa-b25c-e93312473c36",
   "metadata": {},
   "source": [
    "#### None"
   ]
  },
  {
   "cell_type": "code",
   "execution_count": 15,
   "id": "de8b2a60-ce00-4b96-b444-a1c97f6e2196",
   "metadata": {},
   "outputs": [
    {
     "name": "stdout",
     "output_type": "stream",
     "text": [
      "None\n"
     ]
    }
   ],
   "source": [
    "a = None\n",
    "print(a)"
   ]
  }
 ],
 "metadata": {
  "kernelspec": {
   "display_name": "Python [conda env:base] *",
   "language": "python",
   "name": "conda-base-py"
  },
  "language_info": {
   "codemirror_mode": {
    "name": "ipython",
    "version": 3
   },
   "file_extension": ".py",
   "mimetype": "text/x-python",
   "name": "python",
   "nbconvert_exporter": "python",
   "pygments_lexer": "ipython3",
   "version": "3.12.7"
  }
 },
 "nbformat": 4,
 "nbformat_minor": 5
}
