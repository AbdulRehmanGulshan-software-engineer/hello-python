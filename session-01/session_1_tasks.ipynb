{
 "cells": [
  {
   "cell_type": "markdown",
   "metadata": {
    "id": "A05OG15VqOPF"
   },
   "source": [
    "# Task : Session 1\n",
    "Solve these questions own your own and try to test yourself what you have learned in the session.\n",
    "\n",
    "Happy Learning!"
   ]
  },
  {
   "cell_type": "markdown",
   "metadata": {
    "id": "2doIXf8bqe9_"
   },
   "source": [
    "### Q1 :- Print the given strings as per stated format.\n",
    "\n",
    "**Given strings**:\n",
    "```\n",
    "\"Data\" \"Science\" \"Mentorship\" \"Program\"\n",
    "\"By\" \"CampusX\"\n",
    "```\n",
    "**Output**:\n",
    "```\n",
    "Data-Science-Mentorship-Program-started-By-CampusX\n",
    "```\n",
    "\n",
    "Concept- [Seperator and End]"
   ]
  },
  {
   "cell_type": "code",
   "execution_count": 19,
   "metadata": {
    "id": "-em6d3KErDtp"
   },
   "outputs": [
    {
     "name": "stdout",
     "output_type": "stream",
     "text": [
      "Data-Science-Mentorship-Program-By-CampusX\n",
      "Data-Science-Mentorship-Program-By-CampusX\n"
     ]
    }
   ],
   "source": [
    "# first method using end='-'\n",
    "print(\"Data\",end='-')\n",
    "print(\"Science\",end='-')\n",
    "print(\"Mentorship\",end='-')\n",
    "print(\"Program\",end='-')\n",
    "print(\"By\",end='-')\n",
    "print(\"CampusX\")\n",
    "\n",
    "# second method using sep='-'\n",
    "print('Data','Science','Mentorship','Program','By','CampusX',sep='-')"
   ]
  },
  {
   "cell_type": "markdown",
   "metadata": {
    "id": "1KUpN7ZTrC3_"
   },
   "source": [
    "### Q2:- Write a program that will convert celsius value to fahrenheit."
   ]
  },
  {
   "cell_type": "code",
   "execution_count": 1,
   "metadata": {
    "id": "yxKYhYQiqWfj"
   },
   "outputs": [
    {
     "name": "stdin",
     "output_type": "stream",
     "text": [
      "Enter Temperature In Celsius:  34.5\n"
     ]
    },
    {
     "name": "stdout",
     "output_type": "stream",
     "text": [
      "Temperature In Fahrenheit-->94.1\n"
     ]
    }
   ],
   "source": [
    "# input temperature in celsius\n",
    "ctemp = float(input('Enter Temperature In Celsius: '))\n",
    "# apply celcius to fahrenheit formula and save result in float\n",
    "ftemp = (ctemp * 9/5) + 32\n",
    "# print the result\n",
    "print('Temperature In Fahrenheit',ftemp,sep='-->')"
   ]
  },
  {
   "cell_type": "markdown",
   "metadata": {
    "id": "RLrOBBJurLB2"
   },
   "source": [
    "### Q3:- Take 2 numbers as input from the user.Write a program to swap the numbers without using any special python syntax."
   ]
  },
  {
   "cell_type": "code",
   "execution_count": 2,
   "metadata": {
    "id": "yPn7if0TrJ4F"
   },
   "outputs": [
    {
     "name": "stdin",
     "output_type": "stream",
     "text": [
      "enter first number:  12\n",
      "enter second number:  23\n"
     ]
    },
    {
     "name": "stdout",
     "output_type": "stream",
     "text": [
      "unswapped inputs respectively:12,23\n",
      "after swapping:23,12\n"
     ]
    }
   ],
   "source": [
    "# take two int numbers from user\n",
    "num1 = int(input('enter first number: '))\n",
    "num2 = int(input('enter second number: '))\n",
    "print('unswapped inputs respectively',end=':')\n",
    "print(num1,num2,sep=',')\n",
    "# use swapping algorithm manually\n",
    "swap = num1;\n",
    "num1 = num2;\n",
    "num2 = swap;\n",
    "# print swapped inputs\n",
    "print('after swapping',end=':')\n",
    "print(num1,num2,sep=',')"
   ]
  },
  {
   "cell_type": "markdown",
   "metadata": {
    "id": "waLCP1bjr7ML"
   },
   "source": [
    "### Q4:- Write a program to find the euclidean distance between two coordinates.Take both the coordinates from the user as input."
   ]
  },
  {
   "cell_type": "code",
   "execution_count": 14,
   "metadata": {
    "id": "Pl1Sv-xnrxnH"
   },
   "outputs": [
    {
     "name": "stdin",
     "output_type": "stream",
     "text": [
      "enter first coordinate x :  13\n",
      "enter first coordinate y :  26\n",
      "enter second coordinate x :  1\n",
      "enter second coordinate y :  14\n"
     ]
    },
    {
     "name": "stdout",
     "output_type": "stream",
     "text": [
      "euclidean distance is : 16.97056274847714\n"
     ]
    }
   ],
   "source": [
    "# taking coordinates from user\n",
    "cord1_a = int(input('enter first coordinate x : '))\n",
    "cord1_b = int(input('enter first coordinate y : '))\n",
    "cord2_a = int(input('enter second coordinate x : '))\n",
    "cord2_b = int(input('enter second coordinate y : '))\n",
    "# using euclidean distance formula\n",
    "distance = ((cord2_a-cord1_a)**2 + (cord2_b-cord1_b)**2)**(1/2)\n",
    "# print euclidean distance\n",
    "print('euclidean distance is :',distance)"
   ]
  },
  {
   "cell_type": "markdown",
   "metadata": {
    "id": "VLrhg-FRsHjR"
   },
   "source": [
    "### Q5:- Write a program to find the simple interest when the value of principle,rate of interest and time period is provided by the user.\n"
   ]
  },
  {
   "cell_type": "code",
   "execution_count": 16,
   "metadata": {
    "id": "s40DlReZsTmY"
   },
   "outputs": [
    {
     "name": "stdin",
     "output_type": "stream",
     "text": [
      "enter amount of principle:  500\n",
      "enter rate of ineterest in percentage:  2\n",
      "enter time period in years:  4\n"
     ]
    },
    {
     "name": "stdout",
     "output_type": "stream",
     "text": [
      "simple interest : 40.0\n"
     ]
    }
   ],
   "source": [
    "# input value of principle,rate of interest,time period\n",
    "principle_value  = int(input('enter amount of principle: '))\n",
    "interest_rate = float(input('enter rate of ineterest in percentage: '))\n",
    "time_period = int(input('enter time period in years: '))\n",
    "# use interest calculating formula\n",
    "interest = ((interest_rate/100)*principle_value)*time_period\n",
    "# print simple interest\n",
    "print('simple interest :',interest)"
   ]
  },
  {
   "cell_type": "markdown",
   "metadata": {
    "id": "LMy0BTUktYKa"
   },
   "source": [
    "### Q6:- Write a program that will tell the number of dogs and chicken are there when the user will provide the value of total heads and legs.\n",
    "\n",
    "For example:\n",
    "Input:\n",
    "heads -> 4\n",
    "legs -> 12\n",
    "<br>\n",
    "Output:\n",
    "dogs -> 2\n",
    "chicken -> 2\n",
    "\n",
    "\n",
    "\n"
   ]
  },
  {
   "cell_type": "code",
   "execution_count": 30,
   "metadata": {
    "id": "XSBvJoA4tXaG"
   },
   "outputs": [
    {
     "name": "stdin",
     "output_type": "stream",
     "text": [
      "enter total heads:  4\n",
      "enter total legs:  15\n"
     ]
    },
    {
     "name": "stdout",
     "output_type": "stream",
     "text": [
      "dogs:  3\n",
      "chicken:  1\n"
     ]
    }
   ],
   "source": [
    "# input heads and legs\n",
    "heads = int(input('enter total heads: '))\n",
    "legs = int(input('enter total legs: '))\n",
    "# apply algorithm dog = ((legs)-2*(heads))/2 and chicken = heads - dog\n",
    "dog = (legs)-2*(heads)\n",
    "dog = int(dog/2)\n",
    "chicken = int(heads - dog)\n",
    "# print numbers\n",
    "print('dogs: ',dog)\n",
    "print('chicken: ',chicken)"
   ]
  },
  {
   "cell_type": "markdown",
   "metadata": {
    "id": "gJ7C5kZYt4BP"
   },
   "source": [
    "### Q7:- Write a program to find the sum of squares of first n natural numbers where n will be provided by the user."
   ]
  },
  {
   "cell_type": "code",
   "execution_count": 6,
   "metadata": {
    "id": "_tHsmEHzt2nX"
   },
   "outputs": [
    {
     "name": "stdin",
     "output_type": "stream",
     "text": [
      "enter natural number:  9\n"
     ]
    },
    {
     "name": "stdout",
     "output_type": "stream",
     "text": [
      "sum of squares of first n natural numbers---> 285\n"
     ]
    }
   ],
   "source": [
    "# take input from user\n",
    "n = int(input('enter natural number: '))\n",
    "# apply formula to find required answer\n",
    "sum = int((n*(n+1)*(2*n+1))/6)\n",
    "# print the answer\n",
    "print('sum of squares of first n natural numbers',sum,sep =n'---> ')"
   ]
  },
  {
   "cell_type": "markdown",
   "metadata": {
    "id": "FHrMM7g-yG1h"
   },
   "source": [
    "### Q8:- Given the first 2 terms of an Arithmetic Series.Find the Nth term of the series. Assume all inputs are provided by the user."
   ]
  },
  {
   "cell_type": "code",
   "execution_count": 11,
   "metadata": {
    "id": "go4_kmZmyVSx"
   },
   "outputs": [
    {
     "name": "stdin",
     "output_type": "stream",
     "text": [
      "enter first term :  1\n",
      "enter second term :  3\n",
      "enter number of term to find :  10\n"
     ]
    },
    {
     "name": "stdout",
     "output_type": "stream",
     "text": [
      "Nth term is ---> 19\n"
     ]
    }
   ],
   "source": [
    "# input from user\n",
    "first_term = int(input('enter first term : '))\n",
    "second_term = int(input('enter second term : '))\n",
    "n = int(input('enter number of term to find : '))\n",
    "# find common difference,then nth term\n",
    "com_dif = int(second_term - first_term)\n",
    "nth_term = first_term + (n - 1)*com_dif\n",
    "# print nth term\n",
    "print('Nth term is ',nth_term,sep = '---> ')"
   ]
  },
  {
   "cell_type": "markdown",
   "metadata": {
    "id": "QgyRX_es1oum"
   },
   "source": [
    "### Q9:- Given 2 fractions, find the sum of those 2 fractions.Take the numerator and denominator values of the fractions from the user."
   ]
  },
  {
   "cell_type": "code",
   "execution_count": 7,
   "metadata": {
    "id": "X05xqFS1yW16"
   },
   "outputs": [
    {
     "name": "stdin",
     "output_type": "stream",
     "text": [
      "enter numerator of first fraction :  1\n",
      "enter denominator of first fraction :  3\n",
      "enter numerator of second fraction :  3\n",
      "enter denominator of second fraction :  9\n"
     ]
    },
    {
     "name": "stdout",
     "output_type": "stream",
     "text": [
      "sum of two fractions =  1 / 3  +  3 / 9  =  2 / 3\n"
     ]
    }
   ],
   "source": [
    "# input fractions\n",
    "num1 = int(input('enter numerator of first fraction : '))\n",
    "den1 = int(input('enter denominator of first fraction : '))\n",
    "num2 = int(input('enter numerator of second fraction : '))\n",
    "den2 = int(input('enter denominator of second fraction : '))\n",
    "# apply sum algorithm\n",
    "# 1st step : first find numerator and denominator of resulting fraction\n",
    "sum_num = (num1 * den2) + (den1 * num2)\n",
    "sum_den = (den1 * den2)\n",
    "# second step : find gcd of resulting numerator and denominator using Eulidean Algorithm\n",
    "a = sum_num\n",
    "b = sum_den\n",
    "while b != 0:\n",
    "    temp = b\n",
    "    b = a % b\n",
    "    a = temp\n",
    "gcd = a\n",
    "# simplifying both numerator and denominator\n",
    "sum_num = int(sum_num // gcd)\n",
    "sum_den = int(sum_den // gcd)\n",
    "# print sum fraction\n",
    "print('sum of two fractions = ',num1,'/',den1,' + ',num2,'/',den2,' = ',sum_num,'/',sum_den)\n"
   ]
  },
  {
   "cell_type": "markdown",
   "metadata": {
    "id": "eaql38ln13u7"
   },
   "source": [
    "### Q10:- Given the height, width and breadth of a milk tank, you have to find out how many glasses of milk can be obtained? Assume all the inputs are provided by the user.\n",
    "\n",
    "\n",
    "\n",
    "Input:<br>\n",
    "Dimensions of the milk tank<br>\n",
    "H = 20cm, L = 20cm, B = 20cm\n",
    "<br><br>\n",
    "Dimensions of the glass<br>\n",
    "h = 3cm, r = 1cm"
   ]
  },
  {
   "cell_type": "code",
   "execution_count": 2,
   "metadata": {
    "id": "FePZqno74eWv"
   },
   "outputs": [
    {
     "name": "stdout",
     "output_type": "stream",
     "text": [
      "For Tank: \n"
     ]
    },
    {
     "name": "stdin",
     "output_type": "stream",
     "text": [
      "enter height:  20\n",
      "enter width:  20\n",
      "enter breadth:  20\n"
     ]
    },
    {
     "name": "stdout",
     "output_type": "stream",
     "text": [
      "For Glass: \n"
     ]
    },
    {
     "name": "stdin",
     "output_type": "stream",
     "text": [
      "enter height:  3\n",
      "enter radius:  1\n"
     ]
    },
    {
     "name": "stdout",
     "output_type": "stream",
     "text": [
      "total glass obtained-->848.0\n"
     ]
    }
   ],
   "source": [
    "# input all dimensions\n",
    "import math\n",
    "print('For Tank: ')\n",
    "H = float(input('enter height: '))\n",
    "L = float(input('enter width: '))\n",
    "B = float(input('enter breadth: '))\n",
    "print('For Glass: ')\n",
    "h = float(input('enter height: '))\n",
    "r = float(input('enter radius: '))\n",
    "# formula: volume of tank\n",
    "tank_volume = H * L * B\n",
    "# formula: volume of glass\n",
    "glass_volume = math.pi * r**2 * h\n",
    "# finding total glass obtained\n",
    "glass_obtained = tank_volume // glass_volume\n",
    "# print answer\n",
    "print('total glass obtained',glass_obtained,sep = '-->')"
   ]
  },
  {
   "cell_type": "code",
   "execution_count": null,
   "metadata": {},
   "outputs": [],
   "source": []
  }
 ],
 "metadata": {
  "colab": {
   "provenance": []
  },
  "kernelspec": {
   "display_name": "Python [conda env:base] *",
   "language": "python",
   "name": "conda-base-py"
  },
  "language_info": {
   "codemirror_mode": {
    "name": "ipython",
    "version": 3
   },
   "file_extension": ".py",
   "mimetype": "text/x-python",
   "name": "python",
   "nbconvert_exporter": "python",
   "pygments_lexer": "ipython3",
   "version": "3.12.7"
  }
 },
 "nbformat": 4,
 "nbformat_minor": 4
}
